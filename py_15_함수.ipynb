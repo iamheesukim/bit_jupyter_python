{
 "cells": [
  {
   "cell_type": "markdown",
   "id": "828b79eb-7a0f-4fb1-858f-185bebdb5859",
   "metadata": {},
   "source": [
    "### def -> 함수를 생성할 때 \n",
    "\n",
    "def 함수명:<br/>\n",
    "    실행문<br/>\n",
    "    실행문<br/>\n",
    "    실행문<br/>"
   ]
  },
  {
   "cell_type": "code",
   "execution_count": 1,
   "id": "15232cc9-744f-42e5-a577-66136c9c376b",
   "metadata": {},
   "outputs": [],
   "source": [
    "#함수 생성 return이 있는 함수\n",
    "def multiple(n1, n2):\n",
    "    return n1*n2"
   ]
  },
  {
   "cell_type": "code",
   "execution_count": 2,
   "id": "c454f553-ac99-45f4-9f2b-c19c5e32d7d8",
   "metadata": {},
   "outputs": [],
   "source": [
    "#매개변수가 없는 함수\n",
    "def question():\n",
    "    return 'Ok'"
   ]
  },
  {
   "cell_type": "code",
   "execution_count": 3,
   "id": "b8792776-8ea2-48c9-a1a9-d2987e7828a6",
   "metadata": {},
   "outputs": [],
   "source": [
    "#구구단 구하는 함수 return 없이\n",
    "def gugudan(dan):\n",
    "    r = [ (dan, i, dan*i) for i in range(2,10)]\n",
    "    for (x,y,z) in r:\n",
    "        print(f'{x}*{y}={z}')"
   ]
  },
  {
   "cell_type": "code",
   "execution_count": 4,
   "id": "8b3f2f1f-0c76-4fd8-b866-f5b0c5b0b21d",
   "metadata": {},
   "outputs": [
    {
     "name": "stdout",
     "output_type": "stream",
     "text": [
      "24000\n"
     ]
    }
   ],
   "source": [
    "#함수 호출\n",
    "print(multiple(120, 200))"
   ]
  },
  {
   "cell_type": "code",
   "execution_count": 5,
   "id": "31680fe9-9bcd-4bf9-a636-0feedf08bde6",
   "metadata": {},
   "outputs": [
    {
     "name": "stdout",
     "output_type": "stream",
     "text": [
      "Ok\n"
     ]
    }
   ],
   "source": [
    "print(question())"
   ]
  },
  {
   "cell_type": "code",
   "execution_count": 6,
   "id": "40e3c556-9a0e-444c-84d9-7227b520d8cf",
   "metadata": {
    "collapsed": true,
    "jupyter": {
     "outputs_hidden": true
    },
    "tags": []
   },
   "outputs": [
    {
     "name": "stdout",
     "output_type": "stream",
     "text": [
      "7*2=14\n",
      "7*3=21\n",
      "7*4=28\n",
      "7*5=35\n",
      "7*6=42\n",
      "7*7=49\n",
      "7*8=56\n",
      "7*9=63\n"
     ]
    }
   ],
   "source": [
    "gugudan(7)"
   ]
  },
  {
   "cell_type": "code",
   "execution_count": 7,
   "id": "40184040-8efb-4db8-b9a0-79e01ddaad95",
   "metadata": {},
   "outputs": [],
   "source": [
    "def add(a, b, c):\n",
    "    sum = a+b+c\n",
    "    print(f'{a}+{b}+{c}={sum}')"
   ]
  },
  {
   "cell_type": "code",
   "execution_count": 8,
   "id": "54ffaa19-f476-428f-bb80-6ec9504c1112",
   "metadata": {},
   "outputs": [
    {
     "name": "stdout",
     "output_type": "stream",
     "text": [
      "10+20+30=60\n"
     ]
    }
   ],
   "source": [
    "add(10, 20, 30)"
   ]
  },
  {
   "cell_type": "code",
   "execution_count": 9,
   "id": "7a7f1c94-57a6-4aff-9079-9f9574b6ff4a",
   "metadata": {},
   "outputs": [
    {
     "name": "stdout",
     "output_type": "stream",
     "text": [
      "300+500+100=900\n"
     ]
    }
   ],
   "source": [
    "add(c=100, b=500, a=300)"
   ]
  },
  {
   "cell_type": "code",
   "execution_count": 10,
   "id": "ba119c96-830d-4814-b348-e17d176aa159",
   "metadata": {},
   "outputs": [
    {
     "name": "stdout",
     "output_type": "stream",
     "text": [
      "50+30+20=100\n"
     ]
    }
   ],
   "source": [
    "add(50, c=20, b=30)"
   ]
  },
  {
   "cell_type": "code",
   "execution_count": 11,
   "id": "dbde1151-6006-4fe5-9c90-43f248786006",
   "metadata": {},
   "outputs": [],
   "source": [
    "# 매개변수의 갯수가 일정하지 않을 때\n",
    "def add_many(*args):\n",
    "    result = 0;\n",
    "    for d1 in args:\n",
    "        result = result + d1\n",
    "    print(f'result={result}')\n",
    "    "
   ]
  },
  {
   "cell_type": "code",
   "execution_count": 12,
   "id": "59862fcb-8173-4bda-a82a-fffd7839330c",
   "metadata": {},
   "outputs": [
    {
     "name": "stdout",
     "output_type": "stream",
     "text": [
      "result=18\n"
     ]
    }
   ],
   "source": [
    "add_many(1,2,4,5,6)"
   ]
  },
  {
   "cell_type": "code",
   "execution_count": 13,
   "id": "807910b1-ef8d-45ef-a351-8a046c741af6",
   "metadata": {},
   "outputs": [
    {
     "name": "stdout",
     "output_type": "stream",
     "text": [
      "result=85\n"
     ]
    }
   ],
   "source": [
    "add_many(4,5,6,7,7,8,8,8,8,8,8,8)"
   ]
  },
  {
   "cell_type": "code",
   "execution_count": 14,
   "id": "40821a9b-bbd4-4756-af32-97ea415ff5d1",
   "metadata": {},
   "outputs": [],
   "source": [
    "def calculator(menu, *args):\n",
    "    if menu=='add':\n",
    "        result =0\n",
    "        for d in args:\n",
    "            result= result+ d\n",
    "        print(f'{menu}->{result}')\n",
    "    elif menu=='minus':\n",
    "        result=0\n",
    "        for d in args:\n",
    "            result = result - d\n",
    "        print(f'{menu}->{result}')    \n",
    "    else:\n",
    "        print('메뉴를 잘못 선택했습니다.')"
   ]
  },
  {
   "cell_type": "code",
   "execution_count": 16,
   "id": "68368fdd-d842-4200-adb3-5387dd3016c1",
   "metadata": {},
   "outputs": [
    {
     "name": "stdout",
     "output_type": "stream",
     "text": [
      "add->77\n",
      "minus->-55\n"
     ]
    }
   ],
   "source": [
    "calculator('add',3,54,6,6,8)\n",
    "calculator('minus', 4,4,4,4,32,2,5)"
   ]
  },
  {
   "cell_type": "code",
   "execution_count": 24,
   "id": "9c13dbc7-e82d-49af-a6cc-c528e6c09965",
   "metadata": {},
   "outputs": [],
   "source": [
    "# **args 변수명 데이터의 갯수가 일정하지 않을때\n",
    "def kwargs_test(**args):\n",
    "    print(args)\n",
    "    key = args.keys() # key목록이 list로 구해진다.\n",
    "    for k in key:\n",
    "        print(f'{k}-->{args[k]}')"
   ]
  },
  {
   "cell_type": "code",
   "execution_count": 25,
   "id": "65ea9d9c-b9a8-4c15-810a-736e2ff0bbf3",
   "metadata": {},
   "outputs": [
    {
     "name": "stdout",
     "output_type": "stream",
     "text": [
      "{'a': 10}\n",
      "a-->10\n",
      "{'name': 'hong', 'tel': '010-1234-6767'}\n",
      "name-->hong\n",
      "tel-->010-1234-6767\n",
      "{'kor': 100, 'eng': 200, 'mat': 300}\n",
      "kor-->100\n",
      "eng-->200\n",
      "mat-->300\n"
     ]
    }
   ],
   "source": [
    "kwargs_test(a=10)\n",
    "kwargs_test(name='hong', tel='010-1234-6767')\n",
    "kwargs_test(kor=100, eng=200, mat=300)"
   ]
  },
  {
   "cell_type": "code",
   "execution_count": 26,
   "id": "88ea9f75-1546-48dd-9b30-c07d97343cfd",
   "metadata": {},
   "outputs": [],
   "source": [
    "# return 결과가 여러개 일때  - tuple로 리턴해준다. \n",
    "def all_calcu(n1, n2):\n",
    "    return n1+n2, n1-n2, n1*n2, n1//n2"
   ]
  },
  {
   "cell_type": "code",
   "execution_count": 27,
   "id": "0ffddb0d-cccb-4d8c-b949-055011c852a6",
   "metadata": {},
   "outputs": [
    {
     "data": {
      "text/plain": [
       "(13, 7, 30, 3)"
      ]
     },
     "execution_count": 27,
     "metadata": {},
     "output_type": "execute_result"
    }
   ],
   "source": [
    "result1 = all_calcu(10,3)\n",
    "result1"
   ]
  },
  {
   "cell_type": "code",
   "execution_count": 28,
   "id": "3163a651-146e-4b4c-bd74-1dae303ef876",
   "metadata": {},
   "outputs": [],
   "source": [
    "r1, r2, r3, r4 = all_calcu(20, 4)\n"
   ]
  },
  {
   "cell_type": "code",
   "execution_count": 29,
   "id": "e01f3f9a-4c23-4fd1-9699-66b22fe5e72d",
   "metadata": {},
   "outputs": [
    {
     "name": "stdout",
     "output_type": "stream",
     "text": [
      "24\n",
      "16\n",
      "80\n",
      "5\n"
     ]
    }
   ],
   "source": [
    "print(r1)\n",
    "print(r2)\n",
    "print(r3)\n",
    "print(r4)"
   ]
  },
  {
   "cell_type": "code",
   "execution_count": 30,
   "id": "162e66d3-46e6-4d66-a4cc-98d7c01bbd6c",
   "metadata": {},
   "outputs": [],
   "source": [
    "def info(name, age, man=True):\n",
    "    print(f'이름은 {name}')\n",
    "    print(f'나이는 {age}')\n",
    "    print(f'성별은 남자이다. {man}')"
   ]
  },
  {
   "cell_type": "code",
   "execution_count": 31,
   "id": "38fe16af-2ede-4be6-bcea-e6153c5b3c45",
   "metadata": {},
   "outputs": [
    {
     "name": "stdout",
     "output_type": "stream",
     "text": [
      "이름은 홍길동\n",
      "나이는 50\n",
      "성별은 남자이다. True\n"
     ]
    }
   ],
   "source": [
    "info('홍길동', 50)"
   ]
  },
  {
   "cell_type": "code",
   "execution_count": 32,
   "id": "c32df4fe-db58-4491-9de3-08d51588dd17",
   "metadata": {},
   "outputs": [
    {
     "name": "stdout",
     "output_type": "stream",
     "text": [
      "이름은 김연아\n",
      "나이는 30\n",
      "성별은 남자이다. False\n"
     ]
    }
   ],
   "source": [
    "info('김연아',30,False)"
   ]
  },
  {
   "cell_type": "code",
   "execution_count": 33,
   "id": "e549fbd2-7cb5-4fcc-995f-9579671140ac",
   "metadata": {},
   "outputs": [],
   "source": [
    "\n",
    "xx = 100\n",
    "\n",
    "def vartest(xx):\n",
    "    xx = xx + 100\n",
    "    print(xx)"
   ]
  },
  {
   "cell_type": "code",
   "execution_count": 34,
   "id": "74f18777-4f7c-4799-bd26-4de218930ddc",
   "metadata": {},
   "outputs": [
    {
     "name": "stdout",
     "output_type": "stream",
     "text": [
      "300\n"
     ]
    }
   ],
   "source": [
    "vartest(200)"
   ]
  },
  {
   "cell_type": "code",
   "execution_count": 35,
   "id": "89e10dec-42ef-47a0-a1c4-111c80bfe246",
   "metadata": {},
   "outputs": [
    {
     "data": {
      "text/plain": [
       "100"
      ]
     },
     "execution_count": 35,
     "metadata": {},
     "output_type": "execute_result"
    }
   ],
   "source": [
    "xx"
   ]
  },
  {
   "cell_type": "code",
   "execution_count": 36,
   "id": "7545da0e-0c7f-400c-856e-f4e5e8b447ac",
   "metadata": {},
   "outputs": [],
   "source": [
    "zz = 100\n",
    "\n",
    "def vartest(yy):\n",
    "    global zz\n",
    "    yy = yy + 100\n",
    "    zz = yy\n",
    "    print(yy)"
   ]
  },
  {
   "cell_type": "code",
   "execution_count": 37,
   "id": "6c7e9e45-b656-43fc-819d-a7a5894dfe5e",
   "metadata": {},
   "outputs": [
    {
     "name": "stdout",
     "output_type": "stream",
     "text": [
      "1100\n"
     ]
    }
   ],
   "source": [
    "vartest(1000)"
   ]
  },
  {
   "cell_type": "code",
   "execution_count": 38,
   "id": "9d7a29a0-3984-40a2-a134-5852203e9a16",
   "metadata": {},
   "outputs": [
    {
     "data": {
      "text/plain": [
       "1100"
      ]
     },
     "execution_count": 38,
     "metadata": {},
     "output_type": "execute_result"
    }
   ],
   "source": [
    "zz"
   ]
  },
  {
   "cell_type": "code",
   "execution_count": 40,
   "id": "3a802d31-9cab-4457-aa4d-0e6901308249",
   "metadata": {},
   "outputs": [
    {
     "data": {
      "text/plain": [
       "56"
      ]
     },
     "execution_count": 40,
     "metadata": {},
     "output_type": "execute_result"
    }
   ],
   "source": [
    "# 함수를 lamda형을 만들기\n",
    "#함수명      매개변수  :실행문\n",
    "add5 = lambda a, b :a+b\n",
    "\n",
    "rr = add5(15, 41)\n",
    "rr"
   ]
  },
  {
   "cell_type": "code",
   "execution_count": null,
   "id": "70550765-4c42-4480-875f-b721935ef0c5",
   "metadata": {},
   "outputs": [],
   "source": [
    "def add5(a,b):\n",
    "    return a+b"
   ]
  },
  {
   "cell_type": "code",
   "execution_count": null,
   "id": "43793b45-b0db-4725-9e33-6a89c1e33c0d",
   "metadata": {},
   "outputs": [],
   "source": []
  }
 ],
 "metadata": {
  "kernelspec": {
   "display_name": "Python 3",
   "language": "python",
   "name": "python3"
  },
  "language_info": {
   "codemirror_mode": {
    "name": "ipython",
    "version": 3
   },
   "file_extension": ".py",
   "mimetype": "text/x-python",
   "name": "python",
   "nbconvert_exporter": "python",
   "pygments_lexer": "ipython3",
   "version": "3.8.8"
  }
 },
 "nbformat": 4,
 "nbformat_minor": 5
}
