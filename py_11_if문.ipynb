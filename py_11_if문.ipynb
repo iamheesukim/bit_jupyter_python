{
 "cells": [
  {
   "cell_type": "markdown",
   "id": "60162283-eb8e-49e2-8cda-e45c9c38f1fd",
   "metadata": {},
   "source": [
    "### 조건문\n",
    "- 조건문내의 문장을 반드시 tab키를 이용하여 들여쓰기를 하여야 한다.\n",
    "- 비교연산자 : <, > ,<=, >=, ==, !=\n",
    "- 논리연산자 : and, or, not"
   ]
  },
  {
   "cell_type": "code",
   "execution_count": 1,
   "id": "d3c90e23-180f-4fc6-a2a8-1744ab9c2699",
   "metadata": {},
   "outputs": [
    {
     "name": "stdout",
     "output_type": "stream",
     "text": [
      "택시를 타고 가라.\n",
      "종료됨.\n"
     ]
    }
   ],
   "source": [
    "money = True\n",
    "if money :\n",
    "    #참일때\n",
    "    print('택시를 타고 가라.')\n",
    "else:\n",
    "    #False일때\n",
    "    print('걸어서 가라')\n",
    "print('종료됨.')"
   ]
  },
  {
   "cell_type": "code",
   "execution_count": 2,
   "id": "25b99fc9-086b-4833-b9a4-5ee415bdb12a",
   "metadata": {},
   "outputs": [],
   "source": [
    "# in, not in연산자"
   ]
  },
  {
   "cell_type": "code",
   "execution_count": 3,
   "id": "f559d672-cd8c-465a-bab5-ab39ece31469",
   "metadata": {},
   "outputs": [],
   "source": [
    "# list를 이용한 in, not in연산자\n",
    "data_list = [13,25,96,24,69,45]"
   ]
  },
  {
   "cell_type": "code",
   "execution_count": 5,
   "id": "9bc04df8-1951-4a1c-99b5-0b2a8f0d96f6",
   "metadata": {},
   "outputs": [
    {
     "name": "stdout",
     "output_type": "stream",
     "text": [
      "True\n"
     ]
    }
   ],
   "source": [
    "result1 = 24 in data_list\n",
    "print(result1)"
   ]
  },
  {
   "cell_type": "code",
   "execution_count": 6,
   "id": "55667bf1-2543-4ac3-9bca-7f9d95cf794a",
   "metadata": {},
   "outputs": [
    {
     "name": "stdout",
     "output_type": "stream",
     "text": [
      "False\n"
     ]
    }
   ],
   "source": [
    "result2 = 45 not in data_list\n",
    "print(result2)"
   ]
  },
  {
   "cell_type": "code",
   "execution_count": 7,
   "id": "665d1aba-4e53-492b-b80a-dd4c2e9fb89d",
   "metadata": {},
   "outputs": [],
   "source": [
    "# tuple를 이용한 in, not in연산자\n",
    "data_tuple = (2,8,3,9,4)"
   ]
  },
  {
   "cell_type": "code",
   "execution_count": 9,
   "id": "d53da3c4-c1ad-4c26-8a09-70486a822a3c",
   "metadata": {},
   "outputs": [
    {
     "name": "stdout",
     "output_type": "stream",
     "text": [
      "False\n"
     ]
    }
   ],
   "source": [
    "result3 = 1 in data_tuple\n",
    "print(result3)"
   ]
  },
  {
   "cell_type": "code",
   "execution_count": 10,
   "id": "63cfcd37-f646-4966-8c21-afbe80085b44",
   "metadata": {},
   "outputs": [
    {
     "name": "stdout",
     "output_type": "stream",
     "text": [
      "False\n"
     ]
    }
   ],
   "source": [
    "result4 = 9 not in data_tuple\n",
    "print(result4)"
   ]
  },
  {
   "cell_type": "code",
   "execution_count": 11,
   "id": "8379e52e-5d39-4310-ae3a-17dd47d5246e",
   "metadata": {},
   "outputs": [],
   "source": [
    "# 문자열을 이용한 in, not in연산자\n",
    "data_str = 'Test python in, not in';"
   ]
  },
  {
   "cell_type": "code",
   "execution_count": 13,
   "id": "0a909ed9-f32f-40fd-a339-88e99c889cac",
   "metadata": {},
   "outputs": [
    {
     "name": "stdout",
     "output_type": "stream",
     "text": [
      "True\n"
     ]
    }
   ],
   "source": [
    "result5 = 'not' in data_str\n",
    "print(result5)"
   ]
  },
  {
   "cell_type": "code",
   "execution_count": 14,
   "id": "ee0cb4f4-f081-4a43-83d8-2bd938db238b",
   "metadata": {},
   "outputs": [
    {
     "name": "stdout",
     "output_type": "stream",
     "text": [
      "False\n"
     ]
    }
   ],
   "source": [
    "result6 = 'not' not in data_str\n",
    "print(result6)"
   ]
  },
  {
   "cell_type": "code",
   "execution_count": 15,
   "id": "52b08541-4582-40fc-a9e9-c1e02ab6610f",
   "metadata": {},
   "outputs": [
    {
     "name": "stdout",
     "output_type": "stream",
     "text": [
      "모범택시를 타라.\n"
     ]
    }
   ],
   "source": [
    "# if문을 이용한 in, not in연산자\n",
    "# 내주머니 있는....\n",
    "poket = ['핸드폰','지갑','돈','열쇠']\n",
    "if '돈' in poket:\n",
    "    print('모범택시를 타라.')\n",
    "else:\n",
    "    print('걸어서 가라.')\n"
   ]
  },
  {
   "cell_type": "code",
   "execution_count": 17,
   "id": "04de3655-5ba5-45a4-83b8-f47e688dee68",
   "metadata": {},
   "outputs": [],
   "source": [
    "if '돈1' not in poket:\n",
    "    pass   # 아무런 작업이 이루어지지 않을 때\n",
    "else:\n",
    "    print('택시를 타라.')"
   ]
  },
  {
   "cell_type": "code",
   "execution_count": 18,
   "id": "0a6a15ec-b5c5-45cb-822a-c52d81022cee",
   "metadata": {},
   "outputs": [],
   "source": [
    "#    if 조건식:\n",
    "#         실행문\n",
    "#    elif 조건식:\n",
    "#         실행문\n",
    "#    else: \n",
    "#         실행문"
   ]
  },
  {
   "cell_type": "code",
   "execution_count": 20,
   "id": "342349a4-0b6a-4b91-add6-f669747097ff",
   "metadata": {},
   "outputs": [],
   "source": [
    "#\n",
    "#if 조건식 :\n",
    "#    실행문\n",
    "#    if 조건문:\n",
    "#        실행문\n",
    "#    else:\n",
    "#        실행문\n",
    "#    실행문\n",
    "#else: \n",
    "#     실행문"
   ]
  },
  {
   "cell_type": "code",
   "execution_count": 25,
   "id": "bf8c898e-1464-4413-96e0-a21f0ecc5978",
   "metadata": {},
   "outputs": [
    {
     "name": "stdout",
     "output_type": "stream",
     "text": [
      "pass\n"
     ]
    }
   ],
   "source": [
    "# 평균이 60점이면 합격, 60점미만이면 불합력\n",
    "ave = 78\n",
    "if ave>=60:\n",
    "    print('pass')\n",
    "else:\n",
    "    print('fail')"
   ]
  },
  {
   "cell_type": "code",
   "execution_count": 26,
   "id": "66feac9d-5d79-4ab8-8c2f-7e6f407ef52a",
   "metadata": {},
   "outputs": [
    {
     "name": "stdout",
     "output_type": "stream",
     "text": [
      "pass\n"
     ]
    }
   ],
   "source": [
    "message = 'pass' if ave>=60 else 'fail'\n",
    "print(message)"
   ]
  }
 ],
 "metadata": {
  "kernelspec": {
   "display_name": "Python 3",
   "language": "python",
   "name": "python3"
  },
  "language_info": {
   "codemirror_mode": {
    "name": "ipython",
    "version": 3
   },
   "file_extension": ".py",
   "mimetype": "text/x-python",
   "name": "python",
   "nbconvert_exporter": "python",
   "pygments_lexer": "ipython3",
   "version": "3.8.8"
  }
 },
 "nbformat": 4,
 "nbformat_minor": 5
}
