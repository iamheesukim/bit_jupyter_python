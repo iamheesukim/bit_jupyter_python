{
 "cells": [
  {
   "cell_type": "markdown",
   "id": "5aa84b4b-e431-4c25-a99b-a3071d317484",
   "metadata": {},
   "source": [
    "### 리스트(list) 자료형  -  index\n",
    "숫자나 문자열의 순서와 집합을 처리하는 자료형이다.<br/>\n",
    "리스트명 = [데이터1, 데이터2,[data1, data2]]"
   ]
  },
  {
   "cell_type": "code",
   "execution_count": 2,
   "id": "76dfa73e-f8d8-4d0a-b954-b52b43f16cbc",
   "metadata": {},
   "outputs": [
    {
     "name": "stdout",
     "output_type": "stream",
     "text": [
      "[]\n",
      "[]\n"
     ]
    }
   ],
   "source": [
    "# 리스트형 변수 선언하기\n",
    "d1 = []\n",
    "d2 = list()\n",
    "print(d1)\n",
    "print(d2)\n"
   ]
  },
  {
   "cell_type": "code",
   "execution_count": 3,
   "id": "b439bbf1-6e23-4310-857a-e97dadd7ef47",
   "metadata": {},
   "outputs": [
    {
     "name": "stdout",
     "output_type": "stream",
     "text": [
      "[1, 2, 3, 4, 5, 6, 7, 8, 9]\n",
      "['apple', 'banana', 'orange', 'tomato']\n"
     ]
    }
   ],
   "source": [
    "d3 = [1,2,3,4,5,6,7,8,9]\n",
    "d4 = ['apple','banana','orange','tomato']\n",
    "print(d3)\n",
    "print(d4)"
   ]
  },
  {
   "cell_type": "code",
   "execution_count": 4,
   "id": "0c07960d-55c0-4bc4-a160-2425a97c4a6d",
   "metadata": {},
   "outputs": [
    {
     "name": "stdout",
     "output_type": "stream",
     "text": [
      "[1, 2, ['가', '나'], 3]\n",
      "['a', 'b', [1, 2, ['가', '나', '다']], 'c']\n"
     ]
    }
   ],
   "source": [
    "d4 = [1,2,['가','나'],3]\n",
    "d5 = ['a','b',[1,2,['가', '나','다']],'c']\n",
    "print(d4)\n",
    "print(d5)"
   ]
  },
  {
   "cell_type": "code",
   "execution_count": 5,
   "id": "1acb9999-d4e6-4010-abdd-1dea552af0d7",
   "metadata": {},
   "outputs": [
    {
     "name": "stdout",
     "output_type": "stream",
     "text": [
      "나\n"
     ]
    }
   ],
   "source": [
    "print(d4[2][1])"
   ]
  },
  {
   "cell_type": "code",
   "execution_count": 6,
   "id": "b9fafd55-c051-47a5-93c3-4efca338e33b",
   "metadata": {},
   "outputs": [
    {
     "name": "stdout",
     "output_type": "stream",
     "text": [
      "가\n"
     ]
    }
   ],
   "source": [
    "print(d5[2][2][0])"
   ]
  },
  {
   "cell_type": "code",
   "execution_count": 7,
   "id": "b5ac6c34-3df0-466a-809d-0eebc089cf4f",
   "metadata": {},
   "outputs": [],
   "source": [
    "d3 = [1,2,3,4,5,6,7,8,9]\n",
    "d6 = [11,12,13,14,15,16]"
   ]
  },
  {
   "cell_type": "code",
   "execution_count": 10,
   "id": "f1067a1e-4807-4102-8793-5fdd5aa9ec88",
   "metadata": {},
   "outputs": [
    {
     "name": "stdout",
     "output_type": "stream",
     "text": [
      "[4, 5, 6, 7]\n",
      "[1, 2, 3, 4]\n",
      "[5, 6, 7, 8, 9]\n",
      "[1, 2, 3, 4, 5, 6, 7, 8, 9]\n"
     ]
    }
   ],
   "source": [
    "# 리스트 슬라이싱\n",
    "print(d3[3:7])\n",
    "print(d3[:4])\n",
    "print(d3[4:])\n",
    "print(d3[:])\n"
   ]
  },
  {
   "cell_type": "code",
   "execution_count": 11,
   "id": "81294b95-e766-48e2-bcaf-418e4561e5d8",
   "metadata": {},
   "outputs": [
    {
     "name": "stdout",
     "output_type": "stream",
     "text": [
      "[1, 2, 3, 4, 5, 6, 7, 8, 9, 11, 12, 13, 14, 15, 16]\n"
     ]
    }
   ],
   "source": [
    "# 리스트의 연산\n",
    "print(d3+d6)"
   ]
  },
  {
   "cell_type": "code",
   "execution_count": 12,
   "id": "0548f0e2-bc13-44bb-b54e-98da3d353e1f",
   "metadata": {},
   "outputs": [
    {
     "name": "stdout",
     "output_type": "stream",
     "text": [
      "[11, 12, 13, 14, 15, 16, 11, 12, 13, 14, 15, 16, 11, 12, 13, 14, 15, 16]\n"
     ]
    }
   ],
   "source": [
    "d7 = d6*3\n",
    "print(d7)"
   ]
  },
  {
   "cell_type": "code",
   "execution_count": 13,
   "id": "089cec3e-519b-4b7e-8a2e-fd09c83b8715",
   "metadata": {},
   "outputs": [
    {
     "name": "stdout",
     "output_type": "stream",
     "text": [
      "17\n"
     ]
    }
   ],
   "source": [
    "print(d3[2]+ d6[3])"
   ]
  },
  {
   "cell_type": "code",
   "execution_count": 15,
   "id": "20ccecb0-210b-476b-a728-c966fced78d6",
   "metadata": {},
   "outputs": [
    {
     "name": "stdout",
     "output_type": "stream",
     "text": [
      "18\n",
      "4\n"
     ]
    }
   ],
   "source": [
    "print(len(d7))\n",
    "print(len(d5))"
   ]
  },
  {
   "cell_type": "code",
   "execution_count": 17,
   "id": "9de690c9-c6d7-4d5e-9240-0242174db9e7",
   "metadata": {},
   "outputs": [
    {
     "name": "stdout",
     "output_type": "stream",
     "text": [
      "3개\n"
     ]
    }
   ],
   "source": [
    "print(str(d3[2])+\"개\")"
   ]
  },
  {
   "cell_type": "code",
   "execution_count": 18,
   "id": "3502b0ff-689a-4729-87ee-cffbbbcadaa4",
   "metadata": {},
   "outputs": [
    {
     "data": {
      "text/plain": [
       "[11, 12, 13, 14, 15, 16, 11, 12, 13, 14, 15, 16, 11, 12, 13, 14, 15, 16]"
      ]
     },
     "execution_count": 18,
     "metadata": {},
     "output_type": "execute_result"
    }
   ],
   "source": [
    "d7"
   ]
  },
  {
   "cell_type": "code",
   "execution_count": 19,
   "id": "1a81afca-94da-42ba-a19c-8e13508d1d6f",
   "metadata": {},
   "outputs": [],
   "source": [
    "# list의 데이터 지우기\n",
    "del d7[3]"
   ]
  },
  {
   "cell_type": "code",
   "execution_count": 20,
   "id": "2d3f4371-cad2-4788-a61f-3bb131224085",
   "metadata": {},
   "outputs": [
    {
     "data": {
      "text/plain": [
       "[11, 12, 13, 15, 16, 11, 12, 13, 14, 15, 16, 11, 12, 13, 14, 15, 16]"
      ]
     },
     "execution_count": 20,
     "metadata": {},
     "output_type": "execute_result"
    }
   ],
   "source": [
    "d7"
   ]
  },
  {
   "cell_type": "code",
   "execution_count": 21,
   "id": "66447e27-993a-4d53-9bed-52b3a5487ca1",
   "metadata": {},
   "outputs": [
    {
     "data": {
      "text/plain": [
       "[11, 12, 11, 12, 13, 14, 15, 16, 11, 12, 13, 14, 15, 16]"
      ]
     },
     "execution_count": 21,
     "metadata": {},
     "output_type": "execute_result"
    }
   ],
   "source": [
    "del d7[2:5]\n",
    "d7"
   ]
  },
  {
   "cell_type": "code",
   "execution_count": 22,
   "id": "54cf1a75-57ac-42d1-a807-0e9c786cdf3e",
   "metadata": {},
   "outputs": [
    {
     "data": {
      "text/plain": [
       "[11, 12, 11, 12, 13, 14, 15, 16, 11, 12]"
      ]
     },
     "execution_count": 22,
     "metadata": {},
     "output_type": "execute_result"
    }
   ],
   "source": [
    "del d7[10:]\n",
    "d7"
   ]
  },
  {
   "cell_type": "code",
   "execution_count": 23,
   "id": "504b992d-2d0f-4d7e-b0b7-5a81a293f10e",
   "metadata": {},
   "outputs": [
    {
     "data": {
      "text/plain": [
       "[11, 12, 11, 12, 13, 14, 15, 16, 11, 12, 100]"
      ]
     },
     "execution_count": 23,
     "metadata": {},
     "output_type": "execute_result"
    }
   ],
   "source": [
    "# 리스트에 추가 append\n",
    "d7.append(100)\n",
    "d7"
   ]
  },
  {
   "cell_type": "code",
   "execution_count": 24,
   "id": "2093c388-7f9e-4e07-bad9-c45a4c2ab6c1",
   "metadata": {},
   "outputs": [
    {
     "data": {
      "text/plain": [
       "[11, 12, 11, 12, 13, 14, 15, 16, 11, 12, 100, [1000, 2000]]"
      ]
     },
     "execution_count": 24,
     "metadata": {},
     "output_type": "execute_result"
    }
   ],
   "source": [
    "d7.append([1000,2000])\n",
    "d7"
   ]
  },
  {
   "cell_type": "code",
   "execution_count": 25,
   "id": "a08b0044-c030-4292-9b19-12dcf1390003",
   "metadata": {},
   "outputs": [],
   "source": [
    "d8 = [15, 49,20, 40, 34, 2, 45]"
   ]
  },
  {
   "cell_type": "code",
   "execution_count": 26,
   "id": "d3ca669a-c853-43d2-a62d-6b2098cf8da4",
   "metadata": {},
   "outputs": [
    {
     "data": {
      "text/plain": [
       "[2, 15, 20, 34, 40, 45, 49]"
      ]
     },
     "execution_count": 26,
     "metadata": {},
     "output_type": "execute_result"
    }
   ],
   "source": [
    "# 오름차순으로 정렬\n",
    "d8.sort()\n",
    "d8"
   ]
  },
  {
   "cell_type": "code",
   "execution_count": 35,
   "id": "16684de0-e26c-4be6-b02f-aa615e65826d",
   "metadata": {},
   "outputs": [
    {
     "name": "stdout",
     "output_type": "stream",
     "text": [
      "[49, 45, 40, 34, 20, 15, 2]\n",
      "[49, 45, 40, 34, 20, 15, 2]\n",
      "[49, 45, 40, 34, 20, 15, 2]\n"
     ]
    }
   ],
   "source": [
    "# 내림차순정렬\n",
    "d8 = [15, 49,20, 40, 34, 2, 45]\n",
    "d8.sort()\n",
    "s_d1 = d8.reverse()  # 오름차순으로 정렬한 다음 뒤집기\n",
    "print(d8)\n",
    "\n",
    "d8 = [15, 49,20, 40, 34, 2, 45]\n",
    "d8.sort(reverse=True) \n",
    "s_d2 = d8\n",
    "print(s_d2)\n",
    "\n",
    "s_d3 = sorted(d8)[::-1]\n",
    "print(s_d3)"
   ]
  },
  {
   "cell_type": "code",
   "execution_count": 31,
   "id": "dcceeb19-174b-4523-81a9-4f2692e84ad4",
   "metadata": {},
   "outputs": [
    {
     "name": "stdout",
     "output_type": "stream",
     "text": [
      "3\n"
     ]
    }
   ],
   "source": [
    "# 특정값의 index알아내기\n",
    "print(s_d3.index(34))"
   ]
  },
  {
   "cell_type": "code",
   "execution_count": 37,
   "id": "da3195dc-ee3f-4244-b7c4-430f09c70a82",
   "metadata": {},
   "outputs": [
    {
     "name": "stdout",
     "output_type": "stream",
     "text": [
      "[49, 45, 40, 100, 100, 34, 20, 15, 2]\n",
      "[49, 45, 40, ['가', '나'], 100, 100, 34, 20, 15, 2]\n"
     ]
    }
   ],
   "source": [
    "# 값 삽입\n",
    "s_d3.insert(3, 100)\n",
    "print(s_d3)\n",
    "s_d3.insert(3,['가','나'])\n",
    "print(s_d3)"
   ]
  },
  {
   "cell_type": "code",
   "execution_count": 39,
   "id": "a5fbac40-6991-4fc3-9459-414acc7dfc30",
   "metadata": {},
   "outputs": [
    {
     "data": {
      "text/plain": [
       "[49, 45, 40, ['가', '나'], 34, 20, 15, 2]"
      ]
     },
     "execution_count": 39,
     "metadata": {},
     "output_type": "execute_result"
    }
   ],
   "source": [
    "# 값지우기   앞에 있는 값이 먼저 지워짐.\n",
    "s_d3.remove(100)\n",
    "s_d3"
   ]
  },
  {
   "cell_type": "code",
   "execution_count": 40,
   "id": "b55728ec-f9c1-45a6-a196-0fab0337ff0f",
   "metadata": {},
   "outputs": [
    {
     "name": "stdout",
     "output_type": "stream",
     "text": [
      "2 [49, 45, 40, ['가', '나'], 34, 20, 15]\n"
     ]
    }
   ],
   "source": [
    "# 값 꺼내기 ->pop()\n",
    "s1 = s_d3.pop()  #마지막 값이 꺼내지고 리스트에서는 삭제된다.\n",
    "print(s1, s_d3)"
   ]
  },
  {
   "cell_type": "code",
   "execution_count": 41,
   "id": "fa22de25-0412-4f95-b3bc-2cca414c63a4",
   "metadata": {},
   "outputs": [
    {
     "name": "stdout",
     "output_type": "stream",
     "text": [
      "40 [49, 45, ['가', '나'], 34, 20, 15]\n"
     ]
    }
   ],
   "source": [
    "s2 = s_d3.(pop2)\n",
    "print(s2, s_d3)"
   ]
  },
  {
   "cell_type": "code",
   "execution_count": 42,
   "id": "7860a653-3fea-4726-8d73-da6baa719773",
   "metadata": {},
   "outputs": [
    {
     "name": "stdout",
     "output_type": "stream",
     "text": [
      "[1, 2, 3, 4, 5, 6, 7, 8, 9, 11, 12, 13, 14, 15, 16]\n",
      "[11, 12, 13, 14, 15, 16]\n"
     ]
    }
   ],
   "source": [
    "#리스트의 확장\n",
    "d3 = [1,2,3,4,5,6,7,8,9]\n",
    "d6 = [11,12,13,14,15,16]\n",
    "\n",
    "d3.extend(d6)  # d3에 d6를 더한다. \n",
    "print(d3)\n",
    "print(d6)"
   ]
  },
  {
   "cell_type": "code",
   "execution_count": null,
   "id": "b59d9969-8b8a-4bdf-b961-166e8eadd22a",
   "metadata": {},
   "outputs": [],
   "source": []
  },
  {
   "cell_type": "code",
   "execution_count": null,
   "id": "d42f7a4a-6ce3-4368-98b0-f2e6825234d8",
   "metadata": {},
   "outputs": [],
   "source": []
  }
 ],
 "metadata": {
  "kernelspec": {
   "display_name": "Python 3",
   "language": "python",
   "name": "python3"
  },
  "language_info": {
   "codemirror_mode": {
    "name": "ipython",
    "version": 3
   },
   "file_extension": ".py",
   "mimetype": "text/x-python",
   "name": "python",
   "nbconvert_exporter": "python",
   "pygments_lexer": "ipython3",
   "version": "3.8.8"
  }
 },
 "nbformat": 4,
 "nbformat_minor": 5
}
