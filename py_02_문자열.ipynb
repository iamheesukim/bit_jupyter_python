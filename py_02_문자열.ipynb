{
 "cells": [
  {
   "cell_type": "markdown",
   "id": "ba733f8e-aba9-4b81-b20e-d661639754e2",
   "metadata": {},
   "source": [
    "### 문자열 자료형\n",
    "한줄 문자열 : \",  '<br/>\n",
    "여러줄 문자열 : \"\"\", '''"
   ]
  },
  {
   "cell_type": "code",
   "execution_count": 5,
   "id": "ceb23483-3bd4-4ec3-a370-d134e532cd0c",
   "metadata": {},
   "outputs": [],
   "source": [
    "txt = \"한줄'문자열\"\n",
    "txt2 = '한줄\"문자열'\n",
    "\n",
    "txt3 = \"\"\"여러줄\n",
    "문자열1111111\"\"\"\n",
    "\n",
    "txt4 ='''여러줄\n",
    "문자열 \n",
    "2222222'''"
   ]
  },
  {
   "cell_type": "code",
   "execution_count": 6,
   "id": "a242c359-9299-4d4f-bf0b-a5b3e19540cf",
   "metadata": {},
   "outputs": [
    {
     "name": "stdout",
     "output_type": "stream",
     "text": [
      "txt-> 한줄'문자열\n",
      "txt2-> 한줄\"문자열\n",
      "txt3-> 여러줄\n",
      "문자열1111111\n",
      "txt4-> 여러줄\n",
      "문자열 \n",
      "2222222\n"
     ]
    }
   ],
   "source": [
    "print('txt->', txt)\n",
    "print('txt2->', txt2)\n",
    "print('txt3->', txt3)\n",
    "print('txt4->', txt4)"
   ]
  },
  {
   "cell_type": "code",
   "execution_count": 7,
   "id": "8937cd10-52c9-42d1-bfd0-27b08f3f977a",
   "metadata": {},
   "outputs": [],
   "source": [
    "txt = 'Test'"
   ]
  },
  {
   "cell_type": "code",
   "execution_count": 8,
   "id": "9ba361d2-980f-4cf8-99ff-83440f1c5f66",
   "metadata": {},
   "outputs": [
    {
     "name": "stdout",
     "output_type": "stream",
     "text": [
      "TestTest\n"
     ]
    }
   ],
   "source": [
    "result = txt+txt\n",
    "print(result)"
   ]
  },
  {
   "cell_type": "code",
   "execution_count": 9,
   "id": "d608e59e-c651-4fb9-b968-102f665ca3c2",
   "metadata": {},
   "outputs": [
    {
     "data": {
      "text/plain": [
       "'TestTestTestTestTest'"
      ]
     },
     "execution_count": 9,
     "metadata": {},
     "output_type": "execute_result"
    }
   ],
   "source": [
    "result2 = txt*5\n",
    "result2"
   ]
  },
  {
   "cell_type": "code",
   "execution_count": 13,
   "id": "76270108-dcbd-4dd0-9ad1-b923ca53e8a2",
   "metadata": {},
   "outputs": [
    {
     "name": "stdout",
     "output_type": "stream",
     "text": [
      "==================================================\n",
      "==========\n"
     ]
    }
   ],
   "source": [
    "t1 = '='\n",
    "print(t1*50)\n",
    "print(t1*10)"
   ]
  },
  {
   "cell_type": "code",
   "execution_count": 12,
   "id": "c4060e7b-2dc4-41ef-9cb1-beccc300746a",
   "metadata": {},
   "outputs": [
    {
     "name": "stdout",
     "output_type": "stream",
     "text": [
      "4\n"
     ]
    }
   ],
   "source": [
    "print(len(txt)) #문자수"
   ]
  },
  {
   "cell_type": "code",
   "execution_count": 17,
   "id": "a35f2254-879f-41d9-8ca0-9e70e556229e",
   "metadata": {},
   "outputs": [
    {
     "name": "stdout",
     "output_type": "stream",
     "text": [
      "o\n"
     ]
    }
   ],
   "source": [
    "# 문자열 인덱싱\n",
    "t4 = 'python test programing'\n",
    "print(t4[4])"
   ]
  },
  {
   "cell_type": "code",
   "execution_count": 22,
   "id": "84c0b6fa-a64c-41eb-9db3-2c020a0e91ca",
   "metadata": {},
   "outputs": [
    {
     "name": "stdout",
     "output_type": "stream",
     "text": [
      "thon\n",
      " test programing\n",
      "pyt\n",
      "python test programing\n",
      "hon test program\n"
     ]
    }
   ],
   "source": [
    "# 문자열 슬라이싱\n",
    "print(t4[2:6]) # thon  index 2부터 6앞까지\n",
    "print(t4[6:]) # 6부터 끝까지\n",
    "print(t4[:3]) # 처음부터 3앞까지\n",
    "print(t4[:])  # 전체문자\n",
    "print(t4[3:-3]) # 3부터 뒤에서 3개를 제외한 문자선택"
   ]
  },
  {
   "cell_type": "code",
   "execution_count": null,
   "id": "3d74f81b-a557-4e7a-b939-9e4ee4b1dbe6",
   "metadata": {},
   "outputs": [],
   "source": []
  },
  {
   "cell_type": "code",
   "execution_count": null,
   "id": "433c6afe-6f74-4fb8-bb43-af1c757e564c",
   "metadata": {},
   "outputs": [],
   "source": []
  },
  {
   "cell_type": "code",
   "execution_count": null,
   "id": "8139321e-5b9c-484c-8c27-23321ca9ccb6",
   "metadata": {},
   "outputs": [],
   "source": []
  },
  {
   "cell_type": "code",
   "execution_count": null,
   "id": "d6ee7319-cd7e-43de-9300-95fce4542d72",
   "metadata": {},
   "outputs": [],
   "source": []
  }
 ],
 "metadata": {
  "kernelspec": {
   "display_name": "Python 3",
   "language": "python",
   "name": "python3"
  },
  "language_info": {
   "codemirror_mode": {
    "name": "ipython",
    "version": 3
   },
   "file_extension": ".py",
   "mimetype": "text/x-python",
   "name": "python",
   "nbconvert_exporter": "python",
   "pygments_lexer": "ipython3",
   "version": "3.8.8"
  }
 },
 "nbformat": 4,
 "nbformat_minor": 5
}
