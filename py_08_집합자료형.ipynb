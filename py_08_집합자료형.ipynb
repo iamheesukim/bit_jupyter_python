{
 "cells": [
  {
   "cell_type": "markdown",
   "id": "5929a621-242b-4832-88b1-72cde8bae307",
   "metadata": {},
   "source": [
    "### 집합자료형\n",
    "집합에 관련된 자료형으로 처리하기 위해 만든 자료형이다. set()으로 생성할수 있다. <br/>\n",
    "\n",
    "- 중복을 허용하지 않는다.<br/>\n",
    "- 저장 순서가 없다.<br/>\n",
    "- 크기순으로 정렬한다. (ascending)"
   ]
  },
  {
   "cell_type": "code",
   "execution_count": 4,
   "id": "f9d6be3a-f91d-4280-b8e9-62f04e889640",
   "metadata": {},
   "outputs": [
    {
     "name": "stdout",
     "output_type": "stream",
     "text": [
      "[7, 4, 9, 1, 3, 6, 6]\n",
      "{1, 3, 4, 6, 7, 9}\n"
     ]
    }
   ],
   "source": [
    "# 리스트데이터를 이용하여 set를 생성한다.\n",
    "data = [7,4,9,1,3,6,6]\n",
    "print(data)\n",
    "\n",
    "s1 = set(data)\n",
    "print(s1)"
   ]
  },
  {
   "cell_type": "code",
   "execution_count": 6,
   "id": "0782e8ea-7467-41b0-85c9-519df72d66fd",
   "metadata": {},
   "outputs": [
    {
     "name": "stdout",
     "output_type": "stream",
     "text": [
      "{'r', 'o', 'e', ' ', 'w', 'l', 'd', 'h', '.'}\n",
      "{'4', '2', '8', '6', '5'}\n"
     ]
    }
   ],
   "source": [
    "# 문자열을 이용하여 set을 생성하기\n",
    "s2 = set('hello world...')\n",
    "print(s2)\n",
    "\n",
    "s3 = set('4568284')\n",
    "print(s3)"
   ]
  },
  {
   "cell_type": "code",
   "execution_count": 9,
   "id": "4cbfd68f-bc3c-42c7-add7-b3dcea364921",
   "metadata": {},
   "outputs": [
    {
     "name": "stdout",
     "output_type": "stream",
     "text": [
      "['4', '2', '8', '6', '5']\n"
     ]
    }
   ],
   "source": [
    "# set를 리스트로 형변환\n",
    "lst = list(s3)\n",
    "print(lst)"
   ]
  },
  {
   "cell_type": "code",
   "execution_count": 10,
   "id": "a3dca8a8-082a-4e7e-91f4-00af52d9d0a0",
   "metadata": {},
   "outputs": [
    {
     "name": "stdout",
     "output_type": "stream",
     "text": [
      "('4', '2', '8', '6', '5')\n"
     ]
    }
   ],
   "source": [
    "tup = tuple(s3)\n",
    "print(tup)"
   ]
  },
  {
   "cell_type": "markdown",
   "id": "46598b33-d615-43ab-a616-e7fce00719b6",
   "metadata": {},
   "source": [
    "### 교집합, 합집합, 차집합구하기"
   ]
  },
  {
   "cell_type": "code",
   "execution_count": 15,
   "id": "33b2b733-2638-48fa-b82c-2d572c3b890f",
   "metadata": {},
   "outputs": [
    {
     "name": "stdout",
     "output_type": "stream",
     "text": [
      "{1, 2, 3, 4, 5, 6, 7, 8}\n",
      "{5, 6, 7, 8, 9, 10}\n"
     ]
    }
   ],
   "source": [
    "set4 = set([1,2,3,4,5,6,7,8])\n",
    "set5 = set([5,6,7,8,9,10])\n",
    "print(set4)\n",
    "print(set5)"
   ]
  },
  {
   "cell_type": "code",
   "execution_count": null,
   "id": "90705977-4711-4d1e-988c-bd80d43c8d2b",
   "metadata": {},
   "outputs": [],
   "source": [
    "# 교집합 ( & : 교집합을 구하는 연산자, = ( intersection() ))"
   ]
  },
  {
   "cell_type": "code",
   "execution_count": 13,
   "id": "b792e86c-a01e-41b8-b6bd-ca25ebae0368",
   "metadata": {},
   "outputs": [
    {
     "name": "stdout",
     "output_type": "stream",
     "text": [
      "{8, 5, 6, 7}\n"
     ]
    }
   ],
   "source": [
    "set6 = set4 & set5\n",
    "print(set6)"
   ]
  },
  {
   "cell_type": "code",
   "execution_count": 14,
   "id": "f55520cc-8839-43b2-8479-1e9c8cb76168",
   "metadata": {},
   "outputs": [
    {
     "name": "stdout",
     "output_type": "stream",
     "text": [
      "{8, 5, 6, 7}\n"
     ]
    }
   ],
   "source": [
    "set7 = set4.intersection(set5)\n",
    "print(set7)"
   ]
  },
  {
   "cell_type": "code",
   "execution_count": 16,
   "id": "314ae7fd-d4d7-4bcd-ad0d-6dc327e910d3",
   "metadata": {},
   "outputs": [
    {
     "name": "stdout",
     "output_type": "stream",
     "text": [
      "{1, 2, 3, 4, 5, 6, 7, 8, 9, 10}\n"
     ]
    }
   ],
   "source": [
    "#합집합 ( | : 합집합을 구하는 연산자, union()과 동일)\n",
    "set8 = set4 | set5\n",
    "print(set8)"
   ]
  },
  {
   "cell_type": "code",
   "execution_count": 17,
   "id": "a4bc8625-c599-487a-b9be-559cb9ee870a",
   "metadata": {},
   "outputs": [
    {
     "name": "stdout",
     "output_type": "stream",
     "text": [
      "{1, 2, 3, 4, 5, 6, 7, 8, 9, 10}\n"
     ]
    }
   ],
   "source": [
    "set9 = set4.union(set5)\n",
    "print(set9)"
   ]
  },
  {
   "cell_type": "code",
   "execution_count": 18,
   "id": "dda7db64-9e1e-4996-94b9-57b4eff35f3c",
   "metadata": {},
   "outputs": [
    {
     "name": "stdout",
     "output_type": "stream",
     "text": [
      "{1, 2, 3, 4}\n"
     ]
    }
   ],
   "source": [
    "# 차집합 ( - : 차집합 구하는 연산자, difference와 동일)  -> set4에서 set5에 있는 데이터를 제외한다.\n",
    "set10 = set4 - set5\n",
    "print(set10)"
   ]
  },
  {
   "cell_type": "code",
   "execution_count": 19,
   "id": "51dbf9e0-3746-4442-80b4-79fa55ee253d",
   "metadata": {},
   "outputs": [
    {
     "name": "stdout",
     "output_type": "stream",
     "text": [
      "{1, 2, 3, 4}\n"
     ]
    }
   ],
   "source": [
    "set11 = set4.difference(set5)\n",
    "print(set11)"
   ]
  },
  {
   "cell_type": "code",
   "execution_count": null,
   "id": "3006635e-a3c4-436e-acae-bb425e683ff1",
   "metadata": {},
   "outputs": [],
   "source": [
    "### 집합자료형 관련함수"
   ]
  },
  {
   "cell_type": "code",
   "execution_count": 20,
   "id": "98c9fca4-c388-4807-b256-f25051768495",
   "metadata": {},
   "outputs": [
    {
     "name": "stdout",
     "output_type": "stream",
     "text": [
      "{100, 10, 11, 12}\n"
     ]
    }
   ],
   "source": [
    "ss = set([10,11,12])\n",
    "# set자료형에 1개의 데이터 추가하기\n",
    "ss.add(100);\n",
    "print(ss)"
   ]
  },
  {
   "cell_type": "code",
   "execution_count": 21,
   "id": "3c7db59c-be39-476e-8b61-1053997bd3cf",
   "metadata": {},
   "outputs": [
    {
     "name": "stdout",
     "output_type": "stream",
     "text": [
      "{100, 10, 11, 12, 21, 22, 23}\n"
     ]
    }
   ],
   "source": [
    "# set자료형에 여러개의 데이터 추가하기\n",
    "ss.update([21,22,23])\n",
    "print(ss)"
   ]
  },
  {
   "cell_type": "code",
   "execution_count": 22,
   "id": "99c76cc0-9a07-468a-8381-82051a946d05",
   "metadata": {},
   "outputs": [
    {
     "name": "stdout",
     "output_type": "stream",
     "text": [
      "{10, 11, 12, 21, 22, 23}\n"
     ]
    }
   ],
   "source": [
    "# 특정 데이터 지우기\n",
    "ss.remove(100)\n",
    "print(ss)"
   ]
  }
 ],
 "metadata": {
  "kernelspec": {
   "display_name": "Python 3",
   "language": "python",
   "name": "python3"
  },
  "language_info": {
   "codemirror_mode": {
    "name": "ipython",
    "version": 3
   },
   "file_extension": ".py",
   "mimetype": "text/x-python",
   "name": "python",
   "nbconvert_exporter": "python",
   "pygments_lexer": "ipython3",
   "version": "3.8.8"
  }
 },
 "nbformat": 4,
 "nbformat_minor": 5
}
