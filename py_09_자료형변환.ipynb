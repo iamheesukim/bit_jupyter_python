{
 "cells": [
  {
   "cell_type": "markdown",
   "id": "b1e06ca9-4fdc-4853-94c0-6fb566860291",
   "metadata": {},
   "source": [
    "### 형변환\n",
    "- int() : 실수, 논리, 문자화된 정보를 정수로변환\n",
    "- float() : 실수로 변환\n",
    "- str() : 숫자를 문자열로 변환\n",
    "- chr() : 숫자를 문자로 변환\n",
    "- bool() : 정수, 실수, 논리, 문자를 논리형으로 변환"
   ]
  },
  {
   "cell_type": "code",
   "execution_count": 10,
   "id": "c16cd339-8ace-49ab-b11c-70d5671aae2e",
   "metadata": {},
   "outputs": [
    {
     "name": "stdout",
     "output_type": "stream",
     "text": [
      "실수를 문자로 변환 ->3, type=<class 'int'>\n"
     ]
    }
   ],
   "source": [
    "# 정수화    a = int(20)\n",
    "a = int(3.1542)\n",
    "a\n",
    "# type(변수 또는 상수) : 데이터형을 구한다.\n",
    "print(f'실수를 문자로 변환 ->{a}, type={type(a)}')"
   ]
  },
  {
   "cell_type": "code",
   "execution_count": 4,
   "id": "18609122-9052-476a-8028-ec1b35960319",
   "metadata": {},
   "outputs": [
    {
     "data": {
      "text/plain": [
       "0"
      ]
     },
     "execution_count": 4,
     "metadata": {},
     "output_type": "execute_result"
    }
   ],
   "source": [
    "b = int(False)    # True : 1, False : 0\n",
    "b"
   ]
  },
  {
   "cell_type": "code",
   "execution_count": 7,
   "id": "104880c4-a6c3-4262-ab69-3d61ae76e49f",
   "metadata": {},
   "outputs": [
    {
     "name": "stdout",
     "output_type": "stream",
     "text": [
      "1234\n"
     ]
    }
   ],
   "source": [
    "# 문자화된 숫자만 가능하다.\n",
    "c = int('1234')\n",
    "#d = int('test')\n",
    "print(c)\n",
    "#print(d)\n",
    "#e = int('23.256')\n",
    "#print(e)"
   ]
  },
  {
   "cell_type": "code",
   "execution_count": 13,
   "id": "a8bb884d-7f60-45fc-99e6-95f26d01ee12",
   "metadata": {},
   "outputs": [
    {
     "name": "stdout",
     "output_type": "stream",
     "text": [
      "3.0\n",
      "123.254 <class 'float'>\n"
     ]
    }
   ],
   "source": [
    "# 실수로변환\n",
    "f = float(a)\n",
    "print(f)\n",
    "g = float('123.254')\n",
    "print(g, type(g))"
   ]
  },
  {
   "cell_type": "code",
   "execution_count": 17,
   "id": "29fa2f32-29ec-42b8-a121-cf14a01cfdf1",
   "metadata": {},
   "outputs": [
    {
     "name": "stdout",
     "output_type": "stream",
     "text": [
      "b1=True, type=<class 'bool'>\n",
      "b2=True, type=<class 'bool'>\n",
      "b3=False\n",
      "b4=False\n",
      "b5=True\n",
      "b6=True\n"
     ]
    }
   ],
   "source": [
    "# 논리형으로 변환\n",
    "b1 = bool('True')  # 문자가 있으면 True, '',  매개변수가 없을 때 : False\n",
    "print(f'b1={b1}, type={type(b1)}')\n",
    "b2 = bool('Test')\n",
    "print(f'b2={b2}, type={type(b2)}')\n",
    "b3 = bool('')\n",
    "b4 = bool()\n",
    "print(f'b3={b3}')\n",
    "print(f'b4={b4}')\n",
    "\n",
    "b5 = bool(123)\n",
    "b6 = bool(222.512)\n",
    "print(f'b5={b5}')\n",
    "print(f'b6={b6}')"
   ]
  },
  {
   "cell_type": "code",
   "execution_count": 19,
   "id": "09d6e009-bbd8-4237-bc1b-3971c187ea8f",
   "metadata": {},
   "outputs": [
    {
     "name": "stdout",
     "output_type": "stream",
     "text": [
      "c1=A, type=<class 'str'>\n"
     ]
    }
   ],
   "source": [
    "# chr() : 아스키코드를 문자로 변환\n",
    "c1 = chr(65)\n",
    "print(f'c1={c1}, type={type(c1)}')"
   ]
  },
  {
   "cell_type": "code",
   "execution_count": null,
   "id": "3b7fffc9-30c4-4539-a396-60b233a3f2d6",
   "metadata": {},
   "outputs": [],
   "source": []
  }
 ],
 "metadata": {
  "kernelspec": {
   "display_name": "Python 3",
   "language": "python",
   "name": "python3"
  },
  "language_info": {
   "codemirror_mode": {
    "name": "ipython",
    "version": 3
   },
   "file_extension": ".py",
   "mimetype": "text/x-python",
   "name": "python",
   "nbconvert_exporter": "python",
   "pygments_lexer": "ipython3",
   "version": "3.8.8"
  }
 },
 "nbformat": 4,
 "nbformat_minor": 5
}
