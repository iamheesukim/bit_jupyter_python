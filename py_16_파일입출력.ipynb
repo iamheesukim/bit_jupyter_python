{
 "cells": [
  {
   "cell_type": "code",
   "execution_count": 1,
   "id": "e9f305d4-7da8-4fd5-b511-99b35463b25a",
   "metadata": {},
   "outputs": [],
   "source": [
    "# 파일생성하기\n",
    "# 경로가 없을 기본 위치에 파일은 생성된다.\n",
    "\n",
    "#파일명, 모드(r(읽기),w(쓰기),a(마지막에쓰기할것))\n",
    "\n",
    "f1 = open('TestFile.txt','w')\n",
    "f1.close()"
   ]
  },
  {
   "cell_type": "code",
   "execution_count": 2,
   "id": "947d6d7c-eb29-4ab3-88b9-ebfcdee2dd25",
   "metadata": {},
   "outputs": [],
   "source": [
    "# 절대경로에 파일생성\n",
    "# 폴더는 별도로 만들어야 함\n",
    "f2 = open('D:/testFile/TestFile2.txt','w')\n",
    "f2.close()"
   ]
  },
  {
   "cell_type": "code",
   "execution_count": 7,
   "id": "2774c365-2eb0-4e4c-b418-4fccfa78ba06",
   "metadata": {},
   "outputs": [
    {
     "name": "stdout",
     "output_type": "stream",
     "text": [
      "파일쓰기완료\n"
     ]
    }
   ],
   "source": [
    "# 파일에 쓰기\n",
    "f3 = open('D:/testFile/TestFile3.txt','w')\n",
    "\n",
    "for i in range(1, 11):\n",
    "    data = '%d번째줄 추가하기\\n' % i\n",
    "    f3.write(data)\n",
    "\n",
    "f3.close()\n",
    "print('파일쓰기완료')"
   ]
  },
  {
   "cell_type": "code",
   "execution_count": 9,
   "id": "f5833968-9a2a-4f3b-930e-7605ee21ad1c",
   "metadata": {
    "collapsed": true,
    "jupyter": {
     "outputs_hidden": true
    },
    "tags": []
   },
   "outputs": [
    {
     "name": "stdout",
     "output_type": "stream",
     "text": [
      "1번째줄 추가하기\n",
      "\n",
      "2번째줄 추가하기\n",
      "\n",
      "3번째줄 추가하기\n",
      "\n",
      "4번째줄 추가하기\n",
      "\n",
      "5번째줄 추가하기\n",
      "\n",
      "6번째줄 추가하기\n",
      "\n",
      "7번째줄 추가하기\n",
      "\n",
      "8번째줄 추가하기\n",
      "\n",
      "9번째줄 추가하기\n",
      "\n",
      "10번째줄 추가하기\n",
      "\n"
     ]
    }
   ],
   "source": [
    "# 파일읽기\n",
    "# readline()    , readlines()\n",
    "f4 = open('D:/testFile/TestFile3.txt','r')\n",
    "while True:\n",
    "    data = f4.readline()\n",
    "    if not data:        # 값이 있으면 True, 값이 없으면 False\n",
    "        break\n",
    "    print(data)\n",
    "f4.close()"
   ]
  },
  {
   "cell_type": "code",
   "execution_count": 1,
   "id": "45b1221b-23e9-4f8b-819f-f0989e609b3a",
   "metadata": {
    "collapsed": true,
    "jupyter": {
     "outputs_hidden": true
    },
    "tags": []
   },
   "outputs": [
    {
     "name": "stdout",
     "output_type": "stream",
     "text": [
      "1번째줄 추가하기\n",
      "\n",
      "2번째줄 추가하기\n",
      "\n",
      "3번째줄 추가하기\n",
      "\n",
      "4번째줄 추가하기\n",
      "\n",
      "5번째줄 추가하기\n",
      "\n",
      "6번째줄 추가하기\n",
      "\n",
      "7번째줄 추가하기\n",
      "\n",
      "8번째줄 추가하기\n",
      "\n",
      "9번째줄 추가하기\n",
      "\n",
      "10번째줄 추가하기\n",
      "\n"
     ]
    }
   ],
   "source": [
    "f5 = open('D:/testFile/TestFile3.txt','r')\n",
    "fileData = f5.readlines()\n",
    "f5.close()\n",
    "for i in fileData:\n",
    "    print(i)"
   ]
  },
  {
   "cell_type": "code",
   "execution_count": 3,
   "id": "1dcc7ac2-9e08-450c-bbf3-26f91ebcc775",
   "metadata": {
    "tags": []
   },
   "outputs": [],
   "source": [
    "f6 = open('d:/testFile/TestFile3.txt','a')\n",
    "\n",
    "for i in range(1000, 1006):    \n",
    "    f6.write('%d을 새로 추가한 값\\n' % i)\n",
    "f6.close()"
   ]
  },
  {
   "cell_type": "markdown",
   "id": "22ac8506-d1d8-4ffa-8dc8-e686eff60f3e",
   "metadata": {},
   "source": [
    "### with를 이용하여 파일 처리\n",
    "## close()를 하지 않아도 된다."
   ]
  },
  {
   "cell_type": "code",
   "execution_count": 7,
   "id": "0786018b-df14-4218-ae12-fed9c0d54196",
   "metadata": {},
   "outputs": [],
   "source": [
    "with open('d:/testFile/TestFile2.txt','w') as f7:\n",
    "    for i in range(1, 11):\n",
    "        f7.write('%d값을 쓰기 연습중.....\\n' % i)\n",
    "# with블럭 벗어나면 파일이 자동으로 close()된다"
   ]
  },
  {
   "cell_type": "code",
   "execution_count": 8,
   "id": "d125b879-3dfd-4c49-b7c2-141e7bf75d32",
   "metadata": {},
   "outputs": [
    {
     "name": "stdout",
     "output_type": "stream",
     "text": [
      "['1값을 쓰기 연습중.....\\n', '2값을 쓰기 연습중.....\\n', '3값을 쓰기 연습중.....\\n', '4값을 쓰기 연습중.....\\n', '5값을 쓰기 연습중.....\\n', '6값을 쓰기 연습중.....\\n', '7값을 쓰기 연습중.....\\n', '8값을 쓰기 연습중.....\\n', '9값을 쓰기 연습중.....\\n', '10값을 쓰기 연습중.....\\n']\n"
     ]
    }
   ],
   "source": [
    "with open('d:/testFile/TestFile2.txt','r') as f8:\n",
    "    data = f8.readlines()\n",
    "    print(data)"
   ]
  },
  {
   "cell_type": "code",
   "execution_count": null,
   "id": "9539c0e9-1d64-44d9-9d71-910021783287",
   "metadata": {},
   "outputs": [],
   "source": []
  },
  {
   "cell_type": "code",
   "execution_count": null,
   "id": "56cb20c1-5123-4524-b4de-ad2c75c730a4",
   "metadata": {},
   "outputs": [],
   "source": []
  },
  {
   "cell_type": "code",
   "execution_count": null,
   "id": "04c6cf4e-f4b7-4dae-bb99-81c77a8b09d6",
   "metadata": {},
   "outputs": [],
   "source": []
  },
  {
   "cell_type": "code",
   "execution_count": null,
   "id": "9c11e374-7693-4a3b-bc15-cbce74120a1c",
   "metadata": {},
   "outputs": [],
   "source": []
  }
 ],
 "metadata": {
  "kernelspec": {
   "display_name": "Python 3",
   "language": "python",
   "name": "python3"
  },
  "language_info": {
   "codemirror_mode": {
    "name": "ipython",
    "version": 3
   },
   "file_extension": ".py",
   "mimetype": "text/x-python",
   "name": "python",
   "nbconvert_exporter": "python",
   "pygments_lexer": "ipython3",
   "version": "3.8.8"
  }
 },
 "nbformat": 4,
 "nbformat_minor": 5
}
