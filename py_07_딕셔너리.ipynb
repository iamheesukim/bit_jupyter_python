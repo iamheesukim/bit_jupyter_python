{
 "cells": [
  {
   "cell_type": "markdown",
   "id": "19fb4862-1364-4539-af9c-416ea731545d",
   "metadata": {
    "tags": []
   },
   "source": [
    "### 딕셔너리\n",
    "\n",
    "key와 value가 있는 자료형이다.<br/>\n",
    "key와 value를 json형식으로 표기한다.  list, tuple순서가 있지만 순서가 없다.<br/>\n",
    "\n",
    "### {key:value, key:value,.....}"
   ]
  },
  {
   "cell_type": "code",
   "execution_count": 1,
   "id": "200e9865-1119-4b1a-b9a0-dd79d9bd58a0",
   "metadata": {},
   "outputs": [
    {
     "name": "stdout",
     "output_type": "stream",
     "text": [
      "{100: '홍길동', 200: '서울시 마포구'}\n",
      "{'홍길동': '서울시 마포구'}\n"
     ]
    }
   ],
   "source": [
    "#딕셔너리 변수선언\n",
    "data1 = {100:'홍길동', 200:'서울시 마포구'}\n",
    "data2 = {'홍길동':'서울시 마포구'}\n",
    "print(data1)\n",
    "print(data2)"
   ]
  },
  {
   "cell_type": "code",
   "execution_count": 2,
   "id": "3d26771a-e55f-4a31-825a-e4d19ac381f6",
   "metadata": {},
   "outputs": [
    {
     "name": "stdout",
     "output_type": "stream",
     "text": [
      "{100: '홍길동', 200: '서울시 마포구', 'jumsu': [90, 80, 70]}\n"
     ]
    }
   ],
   "source": [
    "#딕셔너리에 리스트 추가하기\n",
    "data1['jumsu'] = [90,80,70]\n",
    "print(data1)"
   ]
  },
  {
   "cell_type": "code",
   "execution_count": 3,
   "id": "57b550ba-f458-425a-976b-1d92a6d0a76a",
   "metadata": {},
   "outputs": [
    {
     "name": "stdout",
     "output_type": "stream",
     "text": [
      "{}\n"
     ]
    }
   ],
   "source": [
    "#딕셔너리에 정보지우기\n",
    "del data2['홍길동']\n",
    "print(data2)"
   ]
  },
  {
   "cell_type": "code",
   "execution_count": 4,
   "id": "82cd6317-aa4e-4c00-80d8-55088fa62ff2",
   "metadata": {},
   "outputs": [
    {
     "data": {
      "text/plain": [
       "'서울시 마포구'"
      ]
     },
     "execution_count": 4,
     "metadata": {},
     "output_type": "execute_result"
    }
   ],
   "source": [
    "data1[200]"
   ]
  },
  {
   "cell_type": "code",
   "execution_count": 5,
   "id": "b3a948b6-0ee6-4469-b4bb-568e7e8ea566",
   "metadata": {},
   "outputs": [
    {
     "data": {
      "text/plain": [
       "{100: '홍길동', 200: '서울시 영등포구', 'jumsu': [90, 80, 70]}"
      ]
     },
     "execution_count": 5,
     "metadata": {},
     "output_type": "execute_result"
    }
   ],
   "source": [
    "data1[200] = '서울시 영등포구'\n",
    "data1"
   ]
  },
  {
   "cell_type": "code",
   "execution_count": null,
   "id": "137ab9c2-0657-492a-a9e7-463a84e8e408",
   "metadata": {},
   "outputs": [],
   "source": [
    "########## key목록구하기"
   ]
  },
  {
   "cell_type": "code",
   "execution_count": null,
   "id": "f173bb90-36e2-4084-bff1-290e1a473be4",
   "metadata": {},
   "outputs": [],
   "source": []
  },
  {
   "cell_type": "code",
   "execution_count": null,
   "id": "f6b22644-b90d-4c0d-b7a2-7b430d18f891",
   "metadata": {},
   "outputs": [],
   "source": []
  },
  {
   "cell_type": "code",
   "execution_count": null,
   "id": "ee7d2360-94fa-43cd-97a5-bb3e02c37068",
   "metadata": {},
   "outputs": [],
   "source": []
  },
  {
   "cell_type": "code",
   "execution_count": null,
   "id": "2dd28f63-1a6b-4a91-ace9-3952e43cf911",
   "metadata": {},
   "outputs": [],
   "source": []
  },
  {
   "cell_type": "code",
   "execution_count": null,
   "id": "ea56106f-528f-4c69-9884-e04efbb40255",
   "metadata": {},
   "outputs": [],
   "source": []
  },
  {
   "cell_type": "code",
   "execution_count": null,
   "id": "bfd83cb5-31ff-4a54-ad3e-3ceaf34297aa",
   "metadata": {},
   "outputs": [],
   "source": []
  },
  {
   "cell_type": "code",
   "execution_count": null,
   "id": "0c385b6f-02cb-4971-b425-17139b9895a4",
   "metadata": {},
   "outputs": [],
   "source": []
  },
  {
   "cell_type": "code",
   "execution_count": null,
   "id": "610055cc-172c-498a-a2d8-2e9ae44bad16",
   "metadata": {},
   "outputs": [],
   "source": []
  }
 ],
 "metadata": {
  "kernelspec": {
   "display_name": "Python 3",
   "language": "python",
   "name": "python3"
  },
  "language_info": {
   "codemirror_mode": {
    "name": "ipython",
    "version": 3
   },
   "file_extension": ".py",
   "mimetype": "text/x-python",
   "name": "python",
   "nbconvert_exporter": "python",
   "pygments_lexer": "ipython3",
   "version": "3.8.8"
  }
 },
 "nbformat": 4,
 "nbformat_minor": 5
}
