{
 "cells": [
  {
   "cell_type": "code",
   "execution_count": 1,
   "id": "cdae1a4b-c707-4559-a03b-eaa9e13edd40",
   "metadata": {},
   "outputs": [
    {
     "name": "stdout",
     "output_type": "stream",
     "text": [
      "12\n",
      "13\n",
      "45\n",
      "74\n",
      "28\n",
      "95\n",
      "68\n"
     ]
    }
   ],
   "source": [
    "# for문\n",
    "data = [12,13,45,74,28,95,68]\n",
    "\n",
    "for d in data:\n",
    "    print(d)"
   ]
  },
  {
   "cell_type": "code",
   "execution_count": 2,
   "id": "62d3453e-8536-4678-86dc-1f3f9fbb1dfe",
   "metadata": {},
   "outputs": [
    {
     "name": "stdout",
     "output_type": "stream",
     "text": [
      "6\n",
      "15\n",
      "13\n",
      "15\n"
     ]
    }
   ],
   "source": [
    "data2 = [(1,5), (9,6), (6,7), (6,9)]\n",
    "\n",
    "for (first, second) in data2:\n",
    "    print(first+second)"
   ]
  },
  {
   "cell_type": "code",
   "execution_count": 7,
   "id": "2ffd70f7-e075-4cc2-8f56-a56a089fd957",
   "metadata": {},
   "outputs": [
    {
     "name": "stdout",
     "output_type": "stream",
     "text": [
      "2\n",
      "4\n",
      "6\n",
      "8\n",
      "10\n"
     ]
    }
   ],
   "source": [
    "range(1,5)  #-> 1부터 5앞까지\n",
    "range(5) #-> 0부터 5앞까지\n",
    "range(1, 10, 2)\n",
    "for a in range(2, 11, 2):\n",
    "    print(a)"
   ]
  },
  {
   "cell_type": "code",
   "execution_count": 3,
   "id": "391e105c-a33a-4cbd-a8df-c6ff3a00344e",
   "metadata": {},
   "outputs": [
    {
     "name": "stdout",
     "output_type": "stream",
     "text": [
      "a-->100\n",
      "b-->120\n",
      "c-->300\n"
     ]
    }
   ],
   "source": [
    "data3 = [('a', 100), ('b',120), ('c', 300)]\n",
    "\n",
    "for d in range(len(data3)):\n",
    "    dd = data3[d]\n",
    "    print(f'{dd[0]}-->{dd[1]}')\n",
    "    "
   ]
  },
  {
   "cell_type": "code",
   "execution_count": 4,
   "id": "d37c98ed-b658-4f4e-a441-7b9c309005a5",
   "metadata": {},
   "outputs": [
    {
     "name": "stdout",
     "output_type": "stream",
     "text": [
      "81점은 합격입니다.\n",
      "67점은 합격입니다.\n",
      "60점은 합격입니다.\n",
      "82점은 합격입니다.\n",
      "91점은 합격입니다.\n"
     ]
    }
   ],
   "source": [
    "data4 = [81,67,51,24,60,82,91]\n",
    "# 60점이상이 합격 \n",
    "for jumsu in data4:\n",
    "    if jumsu<60:\n",
    "        continue\n",
    "    print(f'{jumsu}점은 합격입니다.')\n"
   ]
  },
  {
   "cell_type": "code",
   "execution_count": 8,
   "id": "e2d4832f-9718-44e3-b3e8-1f09cf1e835c",
   "metadata": {
    "collapsed": true,
    "jupyter": {
     "outputs_hidden": true
    },
    "tags": []
   },
   "outputs": [
    {
     "name": "stdout",
     "output_type": "stream",
     "text": [
      "2*2=4\n",
      "2*3=6\n",
      "2*4=8\n",
      "2*5=10\n",
      "2*6=12\n",
      "2*7=14\n",
      "2*8=16\n",
      "2*9=18\n",
      "3*2=6\n",
      "3*3=9\n",
      "3*4=12\n",
      "3*5=15\n",
      "3*6=18\n",
      "3*7=21\n",
      "3*8=24\n",
      "3*9=27\n",
      "4*2=8\n",
      "4*3=12\n",
      "4*4=16\n",
      "4*5=20\n",
      "4*6=24\n",
      "4*7=28\n",
      "4*8=32\n",
      "4*9=36\n",
      "5*2=10\n",
      "5*3=15\n",
      "5*4=20\n",
      "5*5=25\n",
      "5*6=30\n",
      "5*7=35\n",
      "5*8=40\n",
      "5*9=45\n",
      "6*2=12\n",
      "6*3=18\n",
      "6*4=24\n",
      "6*5=30\n",
      "6*6=36\n",
      "6*7=42\n",
      "6*8=48\n",
      "6*9=54\n",
      "7*2=14\n",
      "7*3=21\n",
      "7*4=28\n",
      "7*5=35\n",
      "7*6=42\n",
      "7*7=49\n",
      "7*8=56\n",
      "7*9=63\n",
      "8*2=16\n",
      "8*3=24\n",
      "8*4=32\n",
      "8*5=40\n",
      "8*6=48\n",
      "8*7=56\n",
      "8*8=64\n",
      "8*9=72\n",
      "9*2=18\n",
      "9*3=27\n",
      "9*4=36\n",
      "9*5=45\n",
      "9*6=54\n",
      "9*7=63\n",
      "9*8=72\n",
      "9*9=81\n"
     ]
    }
   ],
   "source": [
    "#중첩 for\n",
    "#구구단\n",
    "# 2~9단까지\n",
    "for dan in range(2, 10):\n",
    "    for i in range(2, 10):\n",
    "        print(f'{dan}*{i}={dan*i}')"
   ]
  },
  {
   "cell_type": "code",
   "execution_count": 9,
   "id": "ac9dfc3a-292b-4e4e-a8c7-541ee81fcab1",
   "metadata": {
    "tags": []
   },
   "outputs": [
    {
     "data": {
      "text/plain": [
       "[6, 27, 18, 21, 12, 9, 15]"
      ]
     },
     "execution_count": 9,
     "metadata": {},
     "output_type": "execute_result"
    }
   ],
   "source": [
    "data5 = [2,9,6,7,4,3,5]\n",
    "#새로운 리스트를 (data6)생성하여 data5에 있는 값을 3배에 해당하는 데이터 채워라\n",
    "data6 = [] # data6 = list()\n",
    "for ddd in data5:\n",
    "    data6.append(ddd*3)\n",
    "\n",
    "data6"
   ]
  },
  {
   "cell_type": "code",
   "execution_count": 13,
   "id": "9adb509a-d28a-4f4f-a143-3d64f55df02c",
   "metadata": {},
   "outputs": [
    {
     "data": {
      "text/plain": [
       "6"
      ]
     },
     "execution_count": 13,
     "metadata": {},
     "output_type": "execute_result"
    }
   ],
   "source": [
    "range(len(data5))\n",
    "data5[n]*3"
   ]
  },
  {
   "cell_type": "code",
   "execution_count": 19,
   "id": "d934d723-ff05-456c-9b96-cbdcbb307b6e",
   "metadata": {},
   "outputs": [
    {
     "data": {
      "text/plain": [
       "[6, 27, 18, 21, 12, 9, 15]"
      ]
     },
     "execution_count": 19,
     "metadata": {},
     "output_type": "execute_result"
    }
   ],
   "source": [
    "data7 = list()\n",
    "\n",
    "for n in range(len(data5)):    \n",
    "    data7.append(data5[n]*3)\n",
    "data7"
   ]
  },
  {
   "cell_type": "code",
   "execution_count": 20,
   "id": "dad8b80b-2eeb-4e4d-af3d-70888b170c5c",
   "metadata": {},
   "outputs": [
    {
     "data": {
      "text/plain": [
       "[6, 27, 18, 21, 12, 9, 15]"
      ]
     },
     "execution_count": 20,
     "metadata": {},
     "output_type": "execute_result"
    }
   ],
   "source": [
    "# 리스트 내포 사용하기\n",
    "data5 = [2,9,6,7,4,3,5]\n",
    "result = [n*3 for n in data5]\n",
    "result"
   ]
  },
  {
   "cell_type": "code",
   "execution_count": 22,
   "id": "470ccc4d-b586-4fff-821f-c4711cd66919",
   "metadata": {},
   "outputs": [
    {
     "name": "stdout",
     "output_type": "stream",
     "text": [
      "[6, 18, 12, 15]\n",
      "[6, 18, 12, 15]\n"
     ]
    }
   ],
   "source": [
    "# data5의 값중에 짝수번째 있는 데이터만 3배를 하여 새로운 리스트 생성(result2)\n",
    "result2 = []\n",
    "for n in range(len(data5)):\n",
    "    if n%2==0:\n",
    "        result2.append(data5[n]*3)\n",
    "\n",
    "print(result2)\n",
    "\n",
    "result3 = [ data5[n]*3 for n in range(len(data5)) if n%2==0 ]\n",
    "print(result3)"
   ]
  },
  {
   "cell_type": "code",
   "execution_count": 33,
   "id": "cec85c0c-d81d-4261-af1e-3a3b8b1d8512",
   "metadata": {
    "collapsed": true,
    "jupyter": {
     "outputs_hidden": true
    },
    "tags": []
   },
   "outputs": [
    {
     "name": "stdout",
     "output_type": "stream",
     "text": [
      "2*2=4\n",
      "2*3=6\n",
      "2*4=8\n",
      "2*5=10\n",
      "2*6=12\n",
      "2*7=14\n",
      "2*8=16\n",
      "2*9=18\n",
      "3*2=6\n",
      "3*3=9\n",
      "3*4=12\n",
      "3*5=15\n",
      "3*6=18\n",
      "3*7=21\n",
      "3*8=24\n",
      "3*9=27\n",
      "4*2=8\n",
      "4*3=12\n",
      "4*4=16\n",
      "4*5=20\n",
      "4*6=24\n",
      "4*7=28\n",
      "4*8=32\n",
      "4*9=36\n",
      "5*2=10\n",
      "5*3=15\n",
      "5*4=20\n",
      "5*5=25\n",
      "5*6=30\n",
      "5*7=35\n",
      "5*8=40\n",
      "5*9=45\n",
      "6*2=12\n",
      "6*3=18\n",
      "6*4=24\n",
      "6*5=30\n",
      "6*6=36\n",
      "6*7=42\n",
      "6*8=48\n",
      "6*9=54\n",
      "7*2=14\n",
      "7*3=21\n",
      "7*4=28\n",
      "7*5=35\n",
      "7*6=42\n",
      "7*7=49\n",
      "7*8=56\n",
      "7*9=63\n",
      "8*2=16\n",
      "8*3=24\n",
      "8*4=32\n",
      "8*5=40\n",
      "8*6=48\n",
      "8*7=56\n",
      "8*8=64\n",
      "8*9=72\n",
      "9*2=18\n",
      "9*3=27\n",
      "9*4=36\n",
      "9*5=45\n",
      "9*6=54\n",
      "9*7=63\n",
      "9*8=72\n",
      "9*9=81\n"
     ]
    }
   ],
   "source": [
    "# 중첩 내포된 for문\n",
    "result4 = [ (d, i, d*i)   for d in range(2, 10) for i in range(2, 10)]\n",
    "result4\n",
    "\n",
    "for (a, b, c) in result4:\n",
    "    print(f'{a}*{b}={c}')"
   ]
  },
  {
   "cell_type": "code",
   "execution_count": 34,
   "id": "37b2d851-85a2-4e76-8f1e-71b9c6b554f1",
   "metadata": {
    "collapsed": true,
    "jupyter": {
     "outputs_hidden": true
    },
    "tags": []
   },
   "outputs": [
    {
     "data": {
      "text/plain": [
       "[(1, 1, 1),\n",
       " (1, 1, 2),\n",
       " (1, 1, 3),\n",
       " (1, 1, 4),\n",
       " (1, 1, 5),\n",
       " (1, 2, 1),\n",
       " (1, 2, 2),\n",
       " (1, 2, 3),\n",
       " (1, 2, 4),\n",
       " (1, 2, 5),\n",
       " (1, 3, 1),\n",
       " (1, 3, 2),\n",
       " (1, 3, 3),\n",
       " (1, 3, 4),\n",
       " (1, 3, 5),\n",
       " (1, 4, 1),\n",
       " (1, 4, 2),\n",
       " (1, 4, 3),\n",
       " (1, 4, 4),\n",
       " (1, 4, 5),\n",
       " (1, 5, 1),\n",
       " (1, 5, 2),\n",
       " (1, 5, 3),\n",
       " (1, 5, 4),\n",
       " (1, 5, 5),\n",
       " (2, 1, 1),\n",
       " (2, 1, 2),\n",
       " (2, 1, 3),\n",
       " (2, 1, 4),\n",
       " (2, 1, 5),\n",
       " (2, 2, 1),\n",
       " (2, 2, 2),\n",
       " (2, 2, 3),\n",
       " (2, 2, 4),\n",
       " (2, 2, 5),\n",
       " (2, 3, 1),\n",
       " (2, 3, 2),\n",
       " (2, 3, 3),\n",
       " (2, 3, 4),\n",
       " (2, 3, 5),\n",
       " (2, 4, 1),\n",
       " (2, 4, 2),\n",
       " (2, 4, 3),\n",
       " (2, 4, 4),\n",
       " (2, 4, 5),\n",
       " (2, 5, 1),\n",
       " (2, 5, 2),\n",
       " (2, 5, 3),\n",
       " (2, 5, 4),\n",
       " (2, 5, 5),\n",
       " (3, 1, 1),\n",
       " (3, 1, 2),\n",
       " (3, 1, 3),\n",
       " (3, 1, 4),\n",
       " (3, 1, 5),\n",
       " (3, 2, 1),\n",
       " (3, 2, 2),\n",
       " (3, 2, 3),\n",
       " (3, 2, 4),\n",
       " (3, 2, 5),\n",
       " (3, 3, 1),\n",
       " (3, 3, 2),\n",
       " (3, 3, 3),\n",
       " (3, 3, 4),\n",
       " (3, 3, 5),\n",
       " (3, 4, 1),\n",
       " (3, 4, 2),\n",
       " (3, 4, 3),\n",
       " (3, 4, 4),\n",
       " (3, 4, 5),\n",
       " (3, 5, 1),\n",
       " (3, 5, 2),\n",
       " (3, 5, 3),\n",
       " (3, 5, 4),\n",
       " (3, 5, 5),\n",
       " (4, 1, 1),\n",
       " (4, 1, 2),\n",
       " (4, 1, 3),\n",
       " (4, 1, 4),\n",
       " (4, 1, 5),\n",
       " (4, 2, 1),\n",
       " (4, 2, 2),\n",
       " (4, 2, 3),\n",
       " (4, 2, 4),\n",
       " (4, 2, 5),\n",
       " (4, 3, 1),\n",
       " (4, 3, 2),\n",
       " (4, 3, 3),\n",
       " (4, 3, 4),\n",
       " (4, 3, 5),\n",
       " (4, 4, 1),\n",
       " (4, 4, 2),\n",
       " (4, 4, 3),\n",
       " (4, 4, 4),\n",
       " (4, 4, 5),\n",
       " (4, 5, 1),\n",
       " (4, 5, 2),\n",
       " (4, 5, 3),\n",
       " (4, 5, 4),\n",
       " (4, 5, 5),\n",
       " (5, 1, 1),\n",
       " (5, 1, 2),\n",
       " (5, 1, 3),\n",
       " (5, 1, 4),\n",
       " (5, 1, 5),\n",
       " (5, 2, 1),\n",
       " (5, 2, 2),\n",
       " (5, 2, 3),\n",
       " (5, 2, 4),\n",
       " (5, 2, 5),\n",
       " (5, 3, 1),\n",
       " (5, 3, 2),\n",
       " (5, 3, 3),\n",
       " (5, 3, 4),\n",
       " (5, 3, 5),\n",
       " (5, 4, 1),\n",
       " (5, 4, 2),\n",
       " (5, 4, 3),\n",
       " (5, 4, 4),\n",
       " (5, 4, 5),\n",
       " (5, 5, 1),\n",
       " (5, 5, 2),\n",
       " (5, 5, 3),\n",
       " (5, 5, 4),\n",
       " (5, 5, 5)]"
      ]
     },
     "execution_count": 34,
     "metadata": {},
     "output_type": "execute_result"
    }
   ],
   "source": [
    "result5 = [(a, b, c) for a in range(1,6) for b in range(1,6) for c in range(1,6)]\n",
    "result5"
   ]
  }
 ],
 "metadata": {
  "kernelspec": {
   "display_name": "Python 3",
   "language": "python",
   "name": "python3"
  },
  "language_info": {
   "codemirror_mode": {
    "name": "ipython",
    "version": 3
   },
   "file_extension": ".py",
   "mimetype": "text/x-python",
   "name": "python",
   "nbconvert_exporter": "python",
   "pygments_lexer": "ipython3",
   "version": "3.8.8"
  }
 },
 "nbformat": 4,
 "nbformat_minor": 5
}
