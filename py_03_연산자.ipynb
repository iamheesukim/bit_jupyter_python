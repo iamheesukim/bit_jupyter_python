{
 "cells": [
  {
   "cell_type": "markdown",
   "id": "103351ff-425a-4361-852a-5bb3a98054de",
   "metadata": {},
   "source": [
    "### 연산자\n",
    "사칙연산자 : +, - , *, /(실수), //(몫), %(나머지), **(거듭제곱)"
   ]
  },
  {
   "cell_type": "code",
   "execution_count": 2,
   "id": "d4921cef-71a8-4402-ab7e-940696877477",
   "metadata": {},
   "outputs": [
    {
     "name": "stdout",
     "output_type": "stream",
     "text": [
      "실수-> 1.6666666666666667\n",
      "몫-> 1\n",
      "거듭제곱-> 125\n"
     ]
    }
   ],
   "source": [
    "print('실수->', 5/3)\n",
    "print('몫->', 5//3)\n",
    "print('거듭제곱->', 5**3)"
   ]
  },
  {
   "cell_type": "code",
   "execution_count": 5,
   "id": "9b87de6e-c2bd-4215-814d-a6a04ed54b6c",
   "metadata": {},
   "outputs": [
    {
     "data": {
      "text/plain": [
       "(16, 2)"
      ]
     },
     "execution_count": 5,
     "metadata": {},
     "output_type": "execute_result"
    }
   ],
   "source": [
    "# 목과 나머지 구하는 함수\n",
    "divmod(50, 3)  # 튜플(몫, 나머지)"
   ]
  },
  {
   "cell_type": "code",
   "execution_count": 6,
   "id": "4ca34367-f5b3-496a-950a-75862250e4a2",
   "metadata": {},
   "outputs": [
    {
     "name": "stdin",
     "output_type": "stream",
     "text": [
      "숫자를 입력하세요? 5\n",
      "숫자를 입력하세요? 6\n"
     ]
    },
    {
     "name": "stdout",
     "output_type": "stream",
     "text": [
      "c= 30\n"
     ]
    }
   ],
   "source": [
    "# 실행중 정보입력하는 방법\n",
    "# int() : 정수로 변환   float() : 실수로 변환  str() : 문자열로 변환\n",
    "a = int(input('숫자를 입력하세요?'))\n",
    "b = int(input('숫자를 입력하세요?'))\n",
    "c = a*b\n",
    "print('c=', c)"
   ]
  },
  {
   "cell_type": "code",
   "execution_count": null,
   "id": "a6a6b9d0-d18e-419e-a1bd-f805063a0183",
   "metadata": {},
   "outputs": [],
   "source": []
  },
  {
   "cell_type": "code",
   "execution_count": null,
   "id": "f7de7e03-783a-495a-a755-1646fed601f7",
   "metadata": {},
   "outputs": [],
   "source": []
  }
 ],
 "metadata": {
  "kernelspec": {
   "display_name": "Python 3",
   "language": "python",
   "name": "python3"
  },
  "language_info": {
   "codemirror_mode": {
    "name": "ipython",
    "version": 3
   },
   "file_extension": ".py",
   "mimetype": "text/x-python",
   "name": "python",
   "nbconvert_exporter": "python",
   "pygments_lexer": "ipython3",
   "version": "3.8.8"
  }
 },
 "nbformat": 4,
 "nbformat_minor": 5
}
