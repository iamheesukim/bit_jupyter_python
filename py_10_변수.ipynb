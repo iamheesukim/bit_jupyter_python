{
 "cells": [
  {
   "cell_type": "markdown",
   "id": "aad45a36-c10b-4941-a9f2-cd4186bded37",
   "metadata": {},
   "source": [
    "### 변수 선언방법"
   ]
  },
  {
   "cell_type": "code",
   "execution_count": 1,
   "id": "36f8f4ce-3ca9-4013-99d0-b9fe6e765645",
   "metadata": {},
   "outputs": [
    {
     "name": "stdout",
     "output_type": "stream",
     "text": [
      "2493245650368\n"
     ]
    }
   ],
   "source": [
    "num = [2,6,9,8,6]\n",
    "print(id(num))   # num의 객체의 주소"
   ]
  },
  {
   "cell_type": "code",
   "execution_count": 3,
   "id": "570116bb-965c-49e4-8a0f-0931de9e3298",
   "metadata": {},
   "outputs": [
    {
     "name": "stdout",
     "output_type": "stream",
     "text": [
      "2493245650368\n"
     ]
    }
   ],
   "source": [
    "num2 = num   # 리스트의 주소를 넘겨준다.\n",
    "print(id(num2))"
   ]
  },
  {
   "cell_type": "code",
   "execution_count": 4,
   "id": "fc182041-850b-4a7a-b7ac-b1e7bdce5b32",
   "metadata": {},
   "outputs": [
    {
     "name": "stdout",
     "output_type": "stream",
     "text": [
      "num->[2, 6, 1234, 8, 6]\n",
      "num->[2, 6, 1234, 8, 6]\n"
     ]
    }
   ],
   "source": [
    "num[2] = 1234\n",
    "\n",
    "print(f'num->{num}')\n",
    "print(f'num2->{num2}')"
   ]
  },
  {
   "cell_type": "code",
   "execution_count": 6,
   "id": "c9fc6205-afed-4e10-ae61-cce25fb5ed8c",
   "metadata": {},
   "outputs": [
    {
     "name": "stdout",
     "output_type": "stream",
     "text": [
      "num=>[2, 6, 1234, 8, 6]\n",
      "num3=>[2, 6, 9999, 8, 6]\n"
     ]
    }
   ],
   "source": [
    "# 주소를 넘겨주지 않고 데이터를 새로 생성할 경우\n",
    "num3 = num[:] #주소를 새롭게 생성한다.\n",
    "num3[2]= 9999\n",
    "print(f'num=>{num}')\n",
    "print(f'num3=>{num3}')"
   ]
  },
  {
   "cell_type": "markdown",
   "id": "9400b11e-7787-41e3-bb1e-3b033373d85e",
   "metadata": {},
   "source": [
    "# 모듈을 이용하여 copy -> num3 = num[:]"
   ]
  },
  {
   "cell_type": "code",
   "execution_count": 7,
   "id": "c6fde93c-59fd-474a-a18a-79e74f104571",
   "metadata": {},
   "outputs": [],
   "source": [
    "from copy import copy"
   ]
  },
  {
   "cell_type": "code",
   "execution_count": 9,
   "id": "6c8e18c7-52fa-43e4-b27b-85e31473eacc",
   "metadata": {},
   "outputs": [
    {
     "name": "stdout",
     "output_type": "stream",
     "text": [
      "[100, 200, 300, 400]\n",
      "[100, 200, 1234, 400]\n"
     ]
    }
   ],
   "source": [
    "aa = [100,200,300,400]\n",
    "bb = copy(aa) # num[:]와 동일하며 새로운 주소를 생성한다.\n",
    "print(aa)\n",
    "bb[2]= 1234\n",
    "print(bb)"
   ]
  },
  {
   "cell_type": "code",
   "execution_count": 10,
   "id": "286e2661-5ebf-440a-a645-fb8f312ab828",
   "metadata": {},
   "outputs": [
    {
     "name": "stdout",
     "output_type": "stream",
     "text": [
      "python\n",
      "test\n"
     ]
    }
   ],
   "source": [
    "# 변수를 생성하는 다양한 방법\n",
    "a, b = ('python','test')\n",
    "print(a)\n",
    "print(b)"
   ]
  },
  {
   "cell_type": "code",
   "execution_count": 11,
   "id": "016d8087-54bb-420b-942e-484229ae1542",
   "metadata": {},
   "outputs": [
    {
     "name": "stdout",
     "output_type": "stream",
     "text": [
      "파이썬\n",
      "테스트\n"
     ]
    }
   ],
   "source": [
    "(c, d) = '파이썬','테스트'\n",
    "print(c)\n",
    "print(d)"
   ]
  },
  {
   "cell_type": "code",
   "execution_count": 12,
   "id": "2ec912c4-f454-46a7-9e00-15ce707a6f1b",
   "metadata": {},
   "outputs": [
    {
     "name": "stdout",
     "output_type": "stream",
     "text": [
      "사과\n",
      "망고\n"
     ]
    }
   ],
   "source": [
    "[e, f] = ['사과','망고']\n",
    "print(e)\n",
    "print(f)"
   ]
  },
  {
   "cell_type": "code",
   "execution_count": 13,
   "id": "eb5dbe14-b7ba-4549-a0a1-657e39664994",
   "metadata": {},
   "outputs": [
    {
     "name": "stdout",
     "output_type": "stream",
     "text": [
      "yellow\n",
      "yellow\n",
      "yellow\n"
     ]
    }
   ],
   "source": [
    "g = h = k = 'yellow'\n",
    "print(g)\n",
    "print(h)\n",
    "print(k)"
   ]
  },
  {
   "cell_type": "code",
   "execution_count": 14,
   "id": "1fe4938b-defd-427d-9259-1dc266d6b9db",
   "metadata": {},
   "outputs": [
    {
     "name": "stdout",
     "output_type": "stream",
     "text": [
      "망고\n",
      "사과\n"
     ]
    }
   ],
   "source": [
    "# 두 값을 교환할 때\n",
    "f, e = e, f\n",
    "print(e)\n",
    "print(f)"
   ]
  },
  {
   "cell_type": "code",
   "execution_count": null,
   "id": "d4b775c0-c39d-4a3f-819e-bf987e66a978",
   "metadata": {},
   "outputs": [],
   "source": []
  },
  {
   "cell_type": "code",
   "execution_count": null,
   "id": "79cfd8f1-dc68-4379-a832-b6fa0d283732",
   "metadata": {},
   "outputs": [],
   "source": []
  }
 ],
 "metadata": {
  "kernelspec": {
   "display_name": "Python 3",
   "language": "python",
   "name": "python3"
  },
  "language_info": {
   "codemirror_mode": {
    "name": "ipython",
    "version": 3
   },
   "file_extension": ".py",
   "mimetype": "text/x-python",
   "name": "python",
   "nbconvert_exporter": "python",
   "pygments_lexer": "ipython3",
   "version": "3.8.8"
  }
 },
 "nbformat": 4,
 "nbformat_minor": 5
}
