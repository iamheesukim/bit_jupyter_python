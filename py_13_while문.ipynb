{
 "cells": [
  {
   "cell_type": "markdown",
   "id": "b56b2eae-edcd-47ac-9464-5bfc67096743",
   "metadata": {},
   "source": [
    "#조건식이 참일때 while문실행\n",
    "\n",
    "while 조건식 :\n",
    "    실행문"
   ]
  },
  {
   "cell_type": "code",
   "execution_count": 7,
   "id": "f31fa3b7-ab7b-4b7d-b137-deedcfeabb90",
   "metadata": {
    "tags": []
   },
   "outputs": [
    {
     "name": "stdout",
     "output_type": "stream",
     "text": [
      "1개의 나무가 있습니다......\n",
      "2개의 나무가 있습니다......\n",
      "3개의 나무가 있습니다......\n",
      "4개의 나무가 있습니다......\n",
      "5개의 나무가 있습니다......\n",
      "6개의 나무가 있습니다......\n",
      "7개의 나무가 있습니다......\n",
      "8개의 나무가 있습니다......\n",
      "9개의 나무가 있습니다......\n"
     ]
    }
   ],
   "source": [
    "treeCnt = 1;\n",
    "while treeCnt<10 :\n",
    "    print(f'{treeCnt}개의 나무가 있습니다......')\n",
    "    treeCnt = treeCnt + 1\n"
   ]
  },
  {
   "cell_type": "code",
   "execution_count": 9,
   "id": "2d91c59b-4fca-4f37-bd74-1af3d942ed45",
   "metadata": {},
   "outputs": [
    {
     "name": "stdout",
     "output_type": "stream",
     "text": [
      "\n",
      "1. 목록\n",
      "2. 수정\n",
      "3. 삭제\n",
      "4. 종료\n",
      "\n"
     ]
    },
    {
     "name": "stdin",
     "output_type": "stream",
     "text": [
      "번호입력-> 1\n"
     ]
    },
    {
     "name": "stdout",
     "output_type": "stream",
     "text": [
      "\n",
      "1. 목록\n",
      "2. 수정\n",
      "3. 삭제\n",
      "4. 종료\n",
      "\n"
     ]
    },
    {
     "name": "stdin",
     "output_type": "stream",
     "text": [
      "번호입력-> 2\n"
     ]
    },
    {
     "name": "stdout",
     "output_type": "stream",
     "text": [
      "\n",
      "1. 목록\n",
      "2. 수정\n",
      "3. 삭제\n",
      "4. 종료\n",
      "\n"
     ]
    },
    {
     "name": "stdin",
     "output_type": "stream",
     "text": [
      "번호입력-> 3\n"
     ]
    },
    {
     "name": "stdout",
     "output_type": "stream",
     "text": [
      "\n",
      "1. 목록\n",
      "2. 수정\n",
      "3. 삭제\n",
      "4. 종료\n",
      "\n"
     ]
    },
    {
     "name": "stdin",
     "output_type": "stream",
     "text": [
      "번호입력-> 4\n"
     ]
    }
   ],
   "source": [
    "message  = \"\"\"\n",
    "1. 목록\n",
    "2. 수정\n",
    "3. 삭제\n",
    "4. 종료\n",
    "\"\"\"\n",
    "\n",
    "menu = 0\n",
    "while menu!=4:\n",
    "    print(message)\n",
    "    menu = int(input('번호입력->'))\n",
    "    if menu>4:\n",
    "        break\n"
   ]
  },
  {
   "cell_type": "code",
   "execution_count": null,
   "id": "adbe9962-ecbd-4746-a7ff-e1ad26cae2a7",
   "metadata": {},
   "outputs": [],
   "source": [
    "# 재고는 5개이다.\n",
    "# money를 입력받아 300원이 입력되면 커피를 주고\n",
    "# 300원보다 많은 돈이 커피를 주고 거스름돈을 계산하고\n",
    "# 300원미만을 입력받으면 커피를 주지 않고 돈을 돌려준다.\n",
    "# 재고가 없으면 프로그램을 종료시킨다."
   ]
  },
  {
   "cell_type": "code",
   "execution_count": 11,
   "id": "96120d7b-fe61-4f12-806e-ea1706e0dda5",
   "metadata": {},
   "outputs": [
    {
     "name": "stdin",
     "output_type": "stream",
     "text": [
      "돈을 입력하세요.. 300\n"
     ]
    },
    {
     "name": "stdout",
     "output_type": "stream",
     "text": [
      "커피를 제공하였습니다.\n",
      "재고는 4개이다.\n"
     ]
    },
    {
     "name": "stdin",
     "output_type": "stream",
     "text": [
      "돈을 입력하세요.. 500\n"
     ]
    },
    {
     "name": "stdout",
     "output_type": "stream",
     "text": [
      "커피를 제공하고, 200거스름돈을 돌려준다.\n",
      "재고는 3개이다.\n"
     ]
    },
    {
     "name": "stdin",
     "output_type": "stream",
     "text": [
      "돈을 입력하세요.. 100\n"
     ]
    },
    {
     "name": "stdout",
     "output_type": "stream",
     "text": [
      "받는 돈 100를 돌려준다.\n",
      "재고는 3개이다.\n"
     ]
    },
    {
     "name": "stdin",
     "output_type": "stream",
     "text": [
      "돈을 입력하세요.. 70\n"
     ]
    },
    {
     "name": "stdout",
     "output_type": "stream",
     "text": [
      "받는 돈 70를 돌려준다.\n",
      "재고는 3개이다.\n"
     ]
    },
    {
     "name": "stdin",
     "output_type": "stream",
     "text": [
      "돈을 입력하세요.. 56\n"
     ]
    },
    {
     "name": "stdout",
     "output_type": "stream",
     "text": [
      "받는 돈 56를 돌려준다.\n",
      "재고는 3개이다.\n"
     ]
    },
    {
     "name": "stdin",
     "output_type": "stream",
     "text": [
      "돈을 입력하세요.. 777\n"
     ]
    },
    {
     "name": "stdout",
     "output_type": "stream",
     "text": [
      "커피를 제공하고, 477거스름돈을 돌려준다.\n",
      "재고는 2개이다.\n"
     ]
    },
    {
     "name": "stdin",
     "output_type": "stream",
     "text": [
      "돈을 입력하세요.. 333\n"
     ]
    },
    {
     "name": "stdout",
     "output_type": "stream",
     "text": [
      "커피를 제공하고, 33거스름돈을 돌려준다.\n",
      "재고는 1개이다.\n"
     ]
    },
    {
     "name": "stdin",
     "output_type": "stream",
     "text": [
      "돈을 입력하세요.. 900\n"
     ]
    },
    {
     "name": "stdout",
     "output_type": "stream",
     "text": [
      "커피를 제공하고, 600거스름돈을 돌려준다.\n",
      "재고는 0개이다.\n"
     ]
    }
   ],
   "source": [
    "coffee = 5\n",
    "\n",
    "while True:\n",
    "    money = int(input('돈을 입력하세요..'))\n",
    "    if money==300:\n",
    "        print('커피를 제공하였습니다.')\n",
    "        coffee = coffee - 1\n",
    "    elif money>300:\n",
    "        m = money-300\n",
    "        print(f'커피를 제공하고, {m}거스름돈을 돌려준다.')\n",
    "        coffee = coffee - 1\n",
    "    else:\n",
    "        print(f'받는 돈 {money}를 돌려준다.')\n",
    "        \n",
    "    #재고없을때\n",
    "    print(f'재고는 {coffee}개이다.')\n",
    "    if coffee==0:\n",
    "        break"
   ]
  },
  {
   "cell_type": "code",
   "execution_count": null,
   "id": "ab4b0263-ba25-4f01-bff5-6f191d3c43f4",
   "metadata": {},
   "outputs": [],
   "source": []
  },
  {
   "cell_type": "code",
   "execution_count": null,
   "id": "1655a109-0238-48d8-8902-2a4e1c88b4e9",
   "metadata": {},
   "outputs": [],
   "source": []
  }
 ],
 "metadata": {
  "kernelspec": {
   "display_name": "Python 3",
   "language": "python",
   "name": "python3"
  },
  "language_info": {
   "codemirror_mode": {
    "name": "ipython",
    "version": 3
   },
   "file_extension": ".py",
   "mimetype": "text/x-python",
   "name": "python",
   "nbconvert_exporter": "python",
   "pygments_lexer": "ipython3",
   "version": "3.8.8"
  }
 },
 "nbformat": 4,
 "nbformat_minor": 5
}
