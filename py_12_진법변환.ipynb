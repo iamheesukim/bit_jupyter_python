{
 "cells": [
  {
   "cell_type": "markdown",
   "id": "e62b2e3d-c774-4ba4-a745-edf3af3f4dba",
   "metadata": {},
   "source": [
    "### 진법 변환\n",
    "- 16진수 -> hex(), 0x8a\n",
    "- 10진수 -> int()\n",
    "- 8진수 -> oct(), 0o736\n",
    "- 2진수 -> bin(), 0b1000"
   ]
  },
  {
   "cell_type": "code",
   "execution_count": 9,
   "id": "47e31d46-c71f-4a2f-b716-aed1e251c840",
   "metadata": {},
   "outputs": [
    {
     "name": "stdin",
     "output_type": "stream",
     "text": [
      "진법을 입력하세요[16/10/8/2]->? 5\n",
      "정수를 입력하세요? 12\n"
     ]
    },
    {
     "name": "stdout",
     "output_type": "stream",
     "text": [
      "진법을 잘못입력하였습니다.\n"
     ]
    }
   ],
   "source": [
    "# 진법과 10진수를 입력받아 해당 진법을 이용하여 값을 변환하여 출력한다.\n",
    "sel = int(input('진법을 입력하세요[16/10/8/2]->?'))\n",
    "num = int(input('정수를 입력하세요?'))\n",
    "\n",
    "if sel == 16 :\n",
    "    result = hex(num)\n",
    "    print(f'{num} 16진법 변환 -> {result}')\n",
    "elif sel == 10 :\n",
    "    print(f'{num} 10진법 변환 -> {int(num)}')\n",
    "elif sel == 8 :\n",
    "    print(f'{num} 8진법 변환 -> {oct(num)}')\n",
    "elif sel == 2 :\n",
    "    print(f'{num} 2진법 변환 -> {bin(num)}')\n",
    "else:\n",
    "    print('진법을 잘못입력하였습니다.')"
   ]
  },
  {
   "cell_type": "code",
   "execution_count": null,
   "id": "893d1b11-5872-4474-a7fc-b841a29ad0fb",
   "metadata": {},
   "outputs": [],
   "source": []
  },
  {
   "cell_type": "code",
   "execution_count": null,
   "id": "e15c82ea-537d-48bf-a019-39edb59ac126",
   "metadata": {},
   "outputs": [],
   "source": []
  },
  {
   "cell_type": "code",
   "execution_count": null,
   "id": "2e17e7d1-3281-48cc-980e-8c2784601b41",
   "metadata": {},
   "outputs": [],
   "source": []
  },
  {
   "cell_type": "code",
   "execution_count": null,
   "id": "61d1442f-2a2f-447e-b804-6f4e8dec98aa",
   "metadata": {},
   "outputs": [],
   "source": []
  }
 ],
 "metadata": {
  "kernelspec": {
   "display_name": "Python 3",
   "language": "python",
   "name": "python3"
  },
  "language_info": {
   "codemirror_mode": {
    "name": "ipython",
    "version": 3
   },
   "file_extension": ".py",
   "mimetype": "text/x-python",
   "name": "python",
   "nbconvert_exporter": "python",
   "pygments_lexer": "ipython3",
   "version": "3.8.8"
  }
 },
 "nbformat": 4,
 "nbformat_minor": 5
}
