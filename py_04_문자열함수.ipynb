{
 "cells": [
  {
   "cell_type": "markdown",
   "id": "9c03202a-85e8-4889-8376-55e4c40b1e97",
   "metadata": {},
   "source": [
    "### 문자열함수\n",
    "count() : 특정 문자의 수를 구한다.<br/>\n",
    "find() : 문자의 위치 구하기<br/>\n"
   ]
  },
  {
   "cell_type": "code",
   "execution_count": 2,
   "id": "83e2b4bb-095d-4392-b0a6-ded9733ac184",
   "metadata": {},
   "outputs": [
    {
     "name": "stdout",
     "output_type": "stream",
     "text": [
      "2\n"
     ]
    }
   ],
   "source": [
    "data = 'apple'\n",
    "# count()\n",
    "print(data.count('p')) #p의 갯수"
   ]
  },
  {
   "cell_type": "code",
   "execution_count": 6,
   "id": "f381c0ba-9d84-4a76-972a-3d4f1764f253",
   "metadata": {},
   "outputs": [
    {
     "name": "stdout",
     "output_type": "stream",
     "text": [
      "1\n",
      "2\n",
      "1\n"
     ]
    }
   ],
   "source": [
    "#find() \n",
    "print(data.find('p'))\n",
    "#rfind()\n",
    "print(data.rfind('p'))\n",
    "#index()\n",
    "print(data.index('p'))"
   ]
  },
  {
   "cell_type": "code",
   "execution_count": 10,
   "id": "4e035032-04b0-40e5-9c56-73118d58ef92",
   "metadata": {},
   "outputs": [
    {
     "name": "stdout",
     "output_type": "stream",
     "text": [
      "가,나,다,라\n",
      "a:p:p:l:e\n"
     ]
    }
   ],
   "source": [
    "#join()\n",
    "print(','.join('가나다라')) # 가,나,다,라\n",
    "print(':'.join(data))"
   ]
  },
  {
   "cell_type": "code",
   "execution_count": 13,
   "id": "7d7e0b70-e3e1-49a5-8277-36cda3af4a2f",
   "metadata": {},
   "outputs": [
    {
     "name": "stdout",
     "output_type": "stream",
     "text": [
      "APPLE\n",
      "test python\n"
     ]
    }
   ],
   "source": [
    "# upper(),   lower()\n",
    "print(data.upper())\n",
    "print('Test Python'.lower())"
   ]
  },
  {
   "cell_type": "code",
   "execution_count": 17,
   "id": "19856f93-4743-4015-8347-b233d86252cc",
   "metadata": {},
   "outputs": [
    {
     "name": "stdout",
     "output_type": "stream",
     "text": [
      "test strip() start              \n",
      "               test strip() start 11111111111\n",
      "test strip() start $$$$$$$$$$$\n"
     ]
    }
   ],
   "source": [
    "# lstrip(),  rstrip(),  strip()  : 공백제거\n",
    "data2 = \"               test strip() start              \"\n",
    "print(data2.lstrip())\n",
    "print(data2.rstrip(),'11111111111')\n",
    "print(data2.strip(),'''$$$$$$$$$$$''')"
   ]
  },
  {
   "cell_type": "code",
   "execution_count": 18,
   "id": "9cf552f7-db19-4c45-8986-3de471ea8c37",
   "metadata": {},
   "outputs": [
    {
     "data": {
      "text/plain": [
       "'               테스트 strip() start              '"
      ]
     },
     "execution_count": 18,
     "metadata": {},
     "output_type": "execute_result"
    }
   ],
   "source": [
    "#replace()\n",
    "data2.replace('test','테스트')"
   ]
  },
  {
   "cell_type": "code",
   "execution_count": 19,
   "id": "be70af7b-3c66-4aa2-a58c-f25236bada8e",
   "metadata": {},
   "outputs": [
    {
     "data": {
      "text/plain": [
       "['               ', 'es', ' s', 'rip() s', 'ar', '              ']"
      ]
     },
     "execution_count": 19,
     "metadata": {},
     "output_type": "execute_result"
    }
   ],
   "source": [
    "# split() -> 특정문자로 문자열을 잘라 리스트형으로 리턴한다.\n",
    "data3 = data2.split('t');\n",
    "data3"
   ]
  },
  {
   "cell_type": "code",
   "execution_count": 20,
   "id": "7b66f88d-b741-4fe4-ab04-91720a4629d7",
   "metadata": {},
   "outputs": [
    {
     "data": {
      "text/plain": [
       "['test', 'strip()', 'start']"
      ]
     },
     "execution_count": 20,
     "metadata": {},
     "output_type": "execute_result"
    }
   ],
   "source": [
    "data4 = data2.split() # 공백을 기준으로 문자열을 자른다.\n",
    "data4"
   ]
  },
  {
   "cell_type": "code",
   "execution_count": null,
   "id": "ce70d896-64e7-49e5-8df2-b174b34b3e47",
   "metadata": {},
   "outputs": [],
   "source": []
  },
  {
   "cell_type": "code",
   "execution_count": null,
   "id": "0838b491-bbf1-49a5-b247-0e9158d6b63d",
   "metadata": {},
   "outputs": [],
   "source": []
  }
 ],
 "metadata": {
  "kernelspec": {
   "display_name": "Python 3",
   "language": "python",
   "name": "python3"
  },
  "language_info": {
   "codemirror_mode": {
    "name": "ipython",
    "version": 3
   },
   "file_extension": ".py",
   "mimetype": "text/x-python",
   "name": "python",
   "nbconvert_exporter": "python",
   "pygments_lexer": "ipython3",
   "version": "3.8.8"
  }
 },
 "nbformat": 4,
 "nbformat_minor": 5
}
