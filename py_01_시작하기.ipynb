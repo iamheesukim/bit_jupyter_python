{
 "cells": [
  {
   "cell_type": "markdown",
   "id": "8bb3b6d3-77dc-4fca-a6b6-51c07342b505",
   "metadata": {},
   "source": [
    "### 설명을 적을수 있다.\n",
    "여러줄로 설명기록 가능<br/>\n",
    "다음줄에 설명<br/>"
   ]
  },
  {
   "cell_type": "code",
   "execution_count": null,
   "id": "b10e1a28-2909-4b69-aad3-1303e253ea51",
   "metadata": {},
   "outputs": [],
   "source": [
    "# 한줄주석"
   ]
  },
  {
   "cell_type": "code",
   "execution_count": 4,
   "id": "eb0977cd-390b-41fd-8439-ad7a5b2f4c33",
   "metadata": {},
   "outputs": [
    {
     "data": {
      "text/plain": [
       "10"
      ]
     },
     "execution_count": 4,
     "metadata": {},
     "output_type": "execute_result"
    }
   ],
   "source": [
    "a=10\n",
    "b=20\n",
    "a"
   ]
  },
  {
   "cell_type": "code",
   "execution_count": 5,
   "id": "b62b8320-ac53-4250-9081-6a07dd68984d",
   "metadata": {},
   "outputs": [
    {
     "data": {
      "text/plain": [
       "20"
      ]
     },
     "execution_count": 5,
     "metadata": {},
     "output_type": "execute_result"
    }
   ],
   "source": [
    "b"
   ]
  },
  {
   "cell_type": "code",
   "execution_count": 6,
   "id": "29862f9c-3a66-41d6-8592-9eeb78f41e9b",
   "metadata": {},
   "outputs": [
    {
     "data": {
      "text/plain": [
       "30"
      ]
     },
     "execution_count": 6,
     "metadata": {},
     "output_type": "execute_result"
    }
   ],
   "source": [
    "c= a+b\n",
    "c"
   ]
  }
 ],
 "metadata": {
  "kernelspec": {
   "display_name": "Python 3",
   "language": "python",
   "name": "python3"
  },
  "language_info": {
   "codemirror_mode": {
    "name": "ipython",
    "version": 3
   },
   "file_extension": ".py",
   "mimetype": "text/x-python",
   "name": "python",
   "nbconvert_exporter": "python",
   "pygments_lexer": "ipython3",
   "version": "3.8.8"
  }
 },
 "nbformat": 4,
 "nbformat_minor": 5
}
