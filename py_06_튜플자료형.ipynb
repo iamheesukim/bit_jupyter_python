{
 "cells": [
  {
   "cell_type": "markdown",
   "id": "03c8d74f-a143-423a-bff3-9ec43ea709fd",
   "metadata": {},
   "source": [
    "### 튜플(tuple)자료형\n",
    "리스트는 [ ]로 표시, 튜플 (  )로 표시<br/>\n",
    "리스트는 데이터를 추가, 수정, 삭제가능하다. <b>튜플은 데이터가 저장되면 데이터를 변경할 수 없다.</b>"
   ]
  },
  {
   "cell_type": "code",
   "execution_count": 1,
   "id": "6f5b58f1-f29c-439a-9777-7f486d7172ed",
   "metadata": {},
   "outputs": [
    {
     "name": "stdout",
     "output_type": "stream",
     "text": [
      "()\n",
      "()\n"
     ]
    }
   ],
   "source": [
    "t1 = ()\n",
    "t2 = tuple()\n",
    "print(t1)\n",
    "print(t2)"
   ]
  },
  {
   "cell_type": "code",
   "execution_count": 2,
   "id": "be2b0a44-5ce3-46c7-892e-766f48b832de",
   "metadata": {},
   "outputs": [
    {
     "name": "stdout",
     "output_type": "stream",
     "text": [
      "(1, 2, 3, 4, 5, 6)\n",
      "(1, 2, 3, 4, 5, 6)\n",
      "('a', 'b', 'c', 'd', 'e')\n"
     ]
    }
   ],
   "source": [
    "t3 = (1,2,3,4,5,6)\n",
    "t4 = 1,2,3,4,5,6\n",
    "t5 = ('a','b','c','d','e')\n",
    "print(t3)\n",
    "print(t4)\n",
    "print(t5)"
   ]
  },
  {
   "cell_type": "code",
   "execution_count": 3,
   "id": "71dcea94-1140-4d1a-bd55-e631361add40",
   "metadata": {},
   "outputs": [
    {
     "name": "stdout",
     "output_type": "stream",
     "text": [
      "3\n"
     ]
    }
   ],
   "source": [
    "print(t3[2])"
   ]
  },
  {
   "cell_type": "code",
   "execution_count": 4,
   "id": "944314f1-3821-473c-b6bb-11bf039ea0fb",
   "metadata": {},
   "outputs": [
    {
     "ename": "TypeError",
     "evalue": "'tuple' object doesn't support item deletion",
     "output_type": "error",
     "traceback": [
      "\u001b[1;31m---------------------------------------------------------------------------\u001b[0m",
      "\u001b[1;31mTypeError\u001b[0m                                 Traceback (most recent call last)",
      "\u001b[1;32m<ipython-input-4-c0ba0ecfaf67>\u001b[0m in \u001b[0;36m<module>\u001b[1;34m\u001b[0m\n\u001b[1;32m----> 1\u001b[1;33m \u001b[1;32mdel\u001b[0m \u001b[0mt3\u001b[0m\u001b[1;33m[\u001b[0m\u001b[1;36m2\u001b[0m\u001b[1;33m]\u001b[0m\u001b[1;33m\u001b[0m\u001b[1;33m\u001b[0m\u001b[0m\n\u001b[0m",
      "\u001b[1;31mTypeError\u001b[0m: 'tuple' object doesn't support item deletion"
     ]
    }
   ],
   "source": [
    "del t3[2]"
   ]
  },
  {
   "cell_type": "code",
   "execution_count": 5,
   "id": "10a3a4aa-2adc-4eb3-adee-6b5445841068",
   "metadata": {},
   "outputs": [
    {
     "ename": "TypeError",
     "evalue": "'tuple' object does not support item assignment",
     "output_type": "error",
     "traceback": [
      "\u001b[1;31m---------------------------------------------------------------------------\u001b[0m",
      "\u001b[1;31mTypeError\u001b[0m                                 Traceback (most recent call last)",
      "\u001b[1;32m<ipython-input-5-5fe228e87bc7>\u001b[0m in \u001b[0;36m<module>\u001b[1;34m\u001b[0m\n\u001b[1;32m----> 1\u001b[1;33m \u001b[0mt3\u001b[0m\u001b[1;33m[\u001b[0m\u001b[1;36m3\u001b[0m\u001b[1;33m]\u001b[0m\u001b[1;33m=\u001b[0m \u001b[1;36m20\u001b[0m\u001b[1;33m\u001b[0m\u001b[1;33m\u001b[0m\u001b[0m\n\u001b[0m",
      "\u001b[1;31mTypeError\u001b[0m: 'tuple' object does not support item assignment"
     ]
    }
   ],
   "source": [
    "t3[3]= 20\n"
   ]
  },
  {
   "cell_type": "code",
   "execution_count": 6,
   "id": "3bc17c92-5742-444d-bbea-00847ae014b8",
   "metadata": {},
   "outputs": [
    {
     "name": "stdout",
     "output_type": "stream",
     "text": [
      "('c', 'd')\n"
     ]
    }
   ],
   "source": [
    "print(t5[2:4])"
   ]
  },
  {
   "cell_type": "code",
   "execution_count": 7,
   "id": "9269dc63-e2fd-427e-a46b-306765f53ecd",
   "metadata": {},
   "outputs": [
    {
     "name": "stdout",
     "output_type": "stream",
     "text": [
      "(1, 2, 3, 4, 5, 6, 1, 2, 3, 4, 5, 6)\n"
     ]
    }
   ],
   "source": [
    "print(t3+t4)"
   ]
  },
  {
   "cell_type": "code",
   "execution_count": 8,
   "id": "6a69b8d7-fd16-415e-8a2e-061471a34c96",
   "metadata": {},
   "outputs": [
    {
     "name": "stdout",
     "output_type": "stream",
     "text": [
      "('a', 'b', 'c', 'd', 'e', 'a', 'b', 'c', 'd', 'e', 'a', 'b', 'c', 'd', 'e')\n"
     ]
    }
   ],
   "source": [
    "print(t5*3)"
   ]
  },
  {
   "cell_type": "code",
   "execution_count": 9,
   "id": "a0a820b4-32ed-421d-b5cf-36541377f157",
   "metadata": {},
   "outputs": [
    {
     "data": {
      "text/plain": [
       "5"
      ]
     },
     "execution_count": 9,
     "metadata": {},
     "output_type": "execute_result"
    }
   ],
   "source": [
    "len(t5)"
   ]
  },
  {
   "cell_type": "code",
   "execution_count": 12,
   "id": "bf7c801a-ebb9-4fd6-a696-1eb25129a915",
   "metadata": {},
   "outputs": [
    {
     "name": "stdout",
     "output_type": "stream",
     "text": [
      "(1, 2, 3, 4, 5, 6, 'a')\n"
     ]
    }
   ],
   "source": [
    "print(  t3  +  ('a',) )   #값이 1개인 튜플은 ,를 표시하여 튜플로 처리한다."
   ]
  },
  {
   "cell_type": "code",
   "execution_count": null,
   "id": "c9e94964-80ce-4373-8965-be11be37dc55",
   "metadata": {},
   "outputs": [],
   "source": []
  }
 ],
 "metadata": {
  "kernelspec": {
   "display_name": "Python 3",
   "language": "python",
   "name": "python3"
  },
  "language_info": {
   "codemirror_mode": {
    "name": "ipython",
    "version": 3
   },
   "file_extension": ".py",
   "mimetype": "text/x-python",
   "name": "python",
   "nbconvert_exporter": "python",
   "pygments_lexer": "ipython3",
   "version": "3.8.8"
  }
 },
 "nbformat": 4,
 "nbformat_minor": 5
}
